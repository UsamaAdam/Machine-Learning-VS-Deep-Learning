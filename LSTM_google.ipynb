{
  "nbformat": 4,
  "nbformat_minor": 0,
  "metadata": {
    "colab": {
      "provenance": []
    },
    "kernelspec": {
      "name": "python3",
      "display_name": "Python 3"
    },
    "language_info": {
      "name": "python"
    }
  },
  "cells": [
    {
      "cell_type": "markdown",
      "source": [
        "LSTM Approach for Stock Market Prediction (Google) - Stock Market History\n",
        "\n",
        "\n",
        "---\n",
        "Osamah Adam Mohammed\n",
        "\n",
        "\n",
        "Sep-5-2023\n",
        "\n",
        "\n",
        "onyx-snow.com"
      ],
      "metadata": {
        "id": "fmllorZwVUVs"
      }
    },
    {
      "cell_type": "markdown",
      "source": [
        "Note: data is available from kaggle\n",
        "\n",
        "https://www.kaggle.com/datasets/rahulsah06/gooogle-stock-price"
      ],
      "metadata": {
        "id": "gAjTzx7MWPPl"
      }
    },
    {
      "cell_type": "code",
      "execution_count": null,
      "metadata": {
        "colab": {
          "base_uri": "https://localhost:8080/",
          "height": 206
        },
        "id": "KtAqAszi0w-r",
        "outputId": "a9e31e02-b697-4a07-ee41-e138e5f9d36a"
      },
      "outputs": [
        {
          "output_type": "execute_result",
          "data": {
            "text/plain": [
              "       Date    Open    High     Low   Close    Volume\n",
              "0  1/3/2012  325.25  332.83  324.97  663.59   7380500\n",
              "1  1/4/2012  331.27  333.87  329.08  666.45   5749400\n",
              "2  1/5/2012  329.83  330.75  326.89  657.21   6590300\n",
              "3  1/6/2012  328.34  328.77  323.68  648.24   5405900\n",
              "4  1/9/2012  322.04  322.29  309.46  620.76  11688800"
            ],
            "text/html": [
              "\n",
              "  <div id=\"df-ad97410c-cfa9-4442-8fe7-f67ca82d89c0\">\n",
              "    <div class=\"colab-df-container\">\n",
              "      <div>\n",
              "<style scoped>\n",
              "    .dataframe tbody tr th:only-of-type {\n",
              "        vertical-align: middle;\n",
              "    }\n",
              "\n",
              "    .dataframe tbody tr th {\n",
              "        vertical-align: top;\n",
              "    }\n",
              "\n",
              "    .dataframe thead th {\n",
              "        text-align: right;\n",
              "    }\n",
              "</style>\n",
              "<table border=\"1\" class=\"dataframe\">\n",
              "  <thead>\n",
              "    <tr style=\"text-align: right;\">\n",
              "      <th></th>\n",
              "      <th>Date</th>\n",
              "      <th>Open</th>\n",
              "      <th>High</th>\n",
              "      <th>Low</th>\n",
              "      <th>Close</th>\n",
              "      <th>Volume</th>\n",
              "    </tr>\n",
              "  </thead>\n",
              "  <tbody>\n",
              "    <tr>\n",
              "      <th>0</th>\n",
              "      <td>1/3/2012</td>\n",
              "      <td>325.25</td>\n",
              "      <td>332.83</td>\n",
              "      <td>324.97</td>\n",
              "      <td>663.59</td>\n",
              "      <td>7380500</td>\n",
              "    </tr>\n",
              "    <tr>\n",
              "      <th>1</th>\n",
              "      <td>1/4/2012</td>\n",
              "      <td>331.27</td>\n",
              "      <td>333.87</td>\n",
              "      <td>329.08</td>\n",
              "      <td>666.45</td>\n",
              "      <td>5749400</td>\n",
              "    </tr>\n",
              "    <tr>\n",
              "      <th>2</th>\n",
              "      <td>1/5/2012</td>\n",
              "      <td>329.83</td>\n",
              "      <td>330.75</td>\n",
              "      <td>326.89</td>\n",
              "      <td>657.21</td>\n",
              "      <td>6590300</td>\n",
              "    </tr>\n",
              "    <tr>\n",
              "      <th>3</th>\n",
              "      <td>1/6/2012</td>\n",
              "      <td>328.34</td>\n",
              "      <td>328.77</td>\n",
              "      <td>323.68</td>\n",
              "      <td>648.24</td>\n",
              "      <td>5405900</td>\n",
              "    </tr>\n",
              "    <tr>\n",
              "      <th>4</th>\n",
              "      <td>1/9/2012</td>\n",
              "      <td>322.04</td>\n",
              "      <td>322.29</td>\n",
              "      <td>309.46</td>\n",
              "      <td>620.76</td>\n",
              "      <td>11688800</td>\n",
              "    </tr>\n",
              "  </tbody>\n",
              "</table>\n",
              "</div>\n",
              "      <button class=\"colab-df-convert\" onclick=\"convertToInteractive('df-ad97410c-cfa9-4442-8fe7-f67ca82d89c0')\"\n",
              "              title=\"Convert this dataframe to an interactive table.\"\n",
              "              style=\"display:none;\">\n",
              "        \n",
              "  <svg xmlns=\"http://www.w3.org/2000/svg\" height=\"24px\"viewBox=\"0 0 24 24\"\n",
              "       width=\"24px\">\n",
              "    <path d=\"M0 0h24v24H0V0z\" fill=\"none\"/>\n",
              "    <path d=\"M18.56 5.44l.94 2.06.94-2.06 2.06-.94-2.06-.94-.94-2.06-.94 2.06-2.06.94zm-11 1L8.5 8.5l.94-2.06 2.06-.94-2.06-.94L8.5 2.5l-.94 2.06-2.06.94zm10 10l.94 2.06.94-2.06 2.06-.94-2.06-.94-.94-2.06-.94 2.06-2.06.94z\"/><path d=\"M17.41 7.96l-1.37-1.37c-.4-.4-.92-.59-1.43-.59-.52 0-1.04.2-1.43.59L10.3 9.45l-7.72 7.72c-.78.78-.78 2.05 0 2.83L4 21.41c.39.39.9.59 1.41.59.51 0 1.02-.2 1.41-.59l7.78-7.78 2.81-2.81c.8-.78.8-2.07 0-2.86zM5.41 20L4 18.59l7.72-7.72 1.47 1.35L5.41 20z\"/>\n",
              "  </svg>\n",
              "      </button>\n",
              "      \n",
              "  <style>\n",
              "    .colab-df-container {\n",
              "      display:flex;\n",
              "      flex-wrap:wrap;\n",
              "      gap: 12px;\n",
              "    }\n",
              "\n",
              "    .colab-df-convert {\n",
              "      background-color: #E8F0FE;\n",
              "      border: none;\n",
              "      border-radius: 50%;\n",
              "      cursor: pointer;\n",
              "      display: none;\n",
              "      fill: #1967D2;\n",
              "      height: 32px;\n",
              "      padding: 0 0 0 0;\n",
              "      width: 32px;\n",
              "    }\n",
              "\n",
              "    .colab-df-convert:hover {\n",
              "      background-color: #E2EBFA;\n",
              "      box-shadow: 0px 1px 2px rgba(60, 64, 67, 0.3), 0px 1px 3px 1px rgba(60, 64, 67, 0.15);\n",
              "      fill: #174EA6;\n",
              "    }\n",
              "\n",
              "    [theme=dark] .colab-df-convert {\n",
              "      background-color: #3B4455;\n",
              "      fill: #D2E3FC;\n",
              "    }\n",
              "\n",
              "    [theme=dark] .colab-df-convert:hover {\n",
              "      background-color: #434B5C;\n",
              "      box-shadow: 0px 1px 3px 1px rgba(0, 0, 0, 0.15);\n",
              "      filter: drop-shadow(0px 1px 2px rgba(0, 0, 0, 0.3));\n",
              "      fill: #FFFFFF;\n",
              "    }\n",
              "  </style>\n",
              "\n",
              "      <script>\n",
              "        const buttonEl =\n",
              "          document.querySelector('#df-ad97410c-cfa9-4442-8fe7-f67ca82d89c0 button.colab-df-convert');\n",
              "        buttonEl.style.display =\n",
              "          google.colab.kernel.accessAllowed ? 'block' : 'none';\n",
              "\n",
              "        async function convertToInteractive(key) {\n",
              "          const element = document.querySelector('#df-ad97410c-cfa9-4442-8fe7-f67ca82d89c0');\n",
              "          const dataTable =\n",
              "            await google.colab.kernel.invokeFunction('convertToInteractive',\n",
              "                                                     [key], {});\n",
              "          if (!dataTable) return;\n",
              "\n",
              "          const docLinkHtml = 'Like what you see? Visit the ' +\n",
              "            '<a target=\"_blank\" href=https://colab.research.google.com/notebooks/data_table.ipynb>data table notebook</a>'\n",
              "            + ' to learn more about interactive tables.';\n",
              "          element.innerHTML = '';\n",
              "          dataTable['output_type'] = 'display_data';\n",
              "          await google.colab.output.renderOutput(dataTable, element);\n",
              "          const docLink = document.createElement('div');\n",
              "          docLink.innerHTML = docLinkHtml;\n",
              "          element.appendChild(docLink);\n",
              "        }\n",
              "      </script>\n",
              "    </div>\n",
              "  </div>\n",
              "  "
            ]
          },
          "metadata": {},
          "execution_count": 1
        }
      ],
      "source": [
        "import pandas as pd\n",
        "import numpy as np\n",
        "import matplotlib.pyplot as plt\n",
        "df5=pd.read_csv('/content/google.csv')\n",
        "df5.head()"
      ]
    },
    {
      "cell_type": "code",
      "source": [
        "#pick target which is close\n",
        "data1=df5.reset_index()['Close']"
      ],
      "metadata": {
        "id": "Xpr69rdH8aiT"
      },
      "execution_count": null,
      "outputs": []
    },
    {
      "cell_type": "code",
      "source": [
        "plt.plot(data1)"
      ],
      "metadata": {
        "colab": {
          "base_uri": "https://localhost:8080/",
          "height": 282
        },
        "id": "U7X983Lpfq_U",
        "outputId": "4e504448-6f84-45f4-f006-7b06bb34b344"
      },
      "execution_count": null,
      "outputs": [
        {
          "output_type": "execute_result",
          "data": {
            "text/plain": [
              "[<matplotlib.lines.Line2D at 0x7f5ffce0abd0>]"
            ]
          },
          "metadata": {},
          "execution_count": 3
        },
        {
          "output_type": "display_data",
          "data": {
            "text/plain": [
              "<Figure size 432x288 with 1 Axes>"
            ],
            "image/png": "[encoded data removed]"
          },
          "metadata": {
            "needs_background": "light"
          }
        }
      ]
    },
    {
      "cell_type": "code",
      "source": [
        "# MinMax scaler\n",
        "from sklearn.preprocessing import MinMaxScaler\n",
        "scaler=MinMaxScaler(feature_range=(0,1))\n",
        "data1=scaler.fit_transform(np.array(data1).reshape(-1,1))"
      ],
      "metadata": {
        "id": "f2ASc26PkjjE"
      },
      "execution_count": null,
      "outputs": []
    },
    {
      "cell_type": "code",
      "source": [
        "data1"
      ],
      "metadata": {
        "colab": {
          "base_uri": "https://localhost:8080/"
        },
        "id": "IyBWiVTak64L",
        "outputId": "8fcabf7e-e346-4022-959a-e6dd9a8cc49d"
      },
      "execution_count": null,
      "outputs": [
        {
          "output_type": "execute_result",
          "data": {
            "text/plain": [
              "array([[0.23757287],\n",
              "       [0.24151427],\n",
              "       [0.22878051],\n",
              "       ...,\n",
              "       [0.45768505],\n",
              "       [0.42875846],\n",
              "       [0.42113749]])"
            ]
          },
          "metadata": {},
          "execution_count": 5
        }
      ]
    },
    {
      "cell_type": "code",
      "source": [
        "training_size=int(len(data1)*0.80)\n",
        "test_size=len(data1)-training_size\n",
        "train_data,test_data=data1[0:training_size,:],data1[training_size:len(data1),:1]"
      ],
      "metadata": {
        "id": "LCPESl-FmPAb"
      },
      "execution_count": null,
      "outputs": []
    },
    {
      "cell_type": "code",
      "source": [
        "import numpy\n",
        "def create_dataset(dataset, time_step=1):\n",
        "\tdataX, dataY = [], []\n",
        "\tfor i in range(len(dataset)-time_step-1):\n",
        "\t\ta = dataset[i:(i+time_step), 0]\n",
        "\t\tdataX.append(a)\n",
        "\t\tdataY.append(dataset[i + time_step, 0])\n",
        "\treturn numpy.array(dataX), numpy.array(dataY)"
      ],
      "metadata": {
        "id": "V-lxQYlMqHq6"
      },
      "execution_count": null,
      "outputs": []
    },
    {
      "cell_type": "code",
      "source": [
        "# reshape\n",
        "time_step = 100\n",
        "X_train, y_train = create_dataset(train_data, time_step)\n",
        "X_test, ytest = create_dataset(test_data, time_step)"
      ],
      "metadata": {
        "id": "apK0K27-sgO4"
      },
      "execution_count": null,
      "outputs": []
    },
    {
      "cell_type": "code",
      "source": [
        "print(X_test.shape), print(ytest.shape)"
      ],
      "metadata": {
        "colab": {
          "base_uri": "https://localhost:8080/"
        },
        "id": "vOicVnwEtMZC",
        "outputId": "22738f34-6008-453d-b255-366da4d90708"
      },
      "execution_count": null,
      "outputs": [
        {
          "output_type": "stream",
          "name": "stdout",
          "text": [
            "(155, 100)\n",
            "(155,)\n"
          ]
        },
        {
          "output_type": "execute_result",
          "data": {
            "text/plain": [
              "(None, None)"
            ]
          },
          "metadata": {},
          "execution_count": 9
        }
      ]
    },
    {
      "cell_type": "code",
      "source": [
        "print(X_train.shape), print(y_train.shape)"
      ],
      "metadata": {
        "colab": {
          "base_uri": "https://localhost:8080/"
        },
        "id": "aiSoB5xmtJal",
        "outputId": "538733a4-a995-4c57-a234-89aee3520cd6"
      },
      "execution_count": null,
      "outputs": [
        {
          "output_type": "stream",
          "name": "stdout",
          "text": [
            "(921, 100)\n",
            "(921,)\n"
          ]
        },
        {
          "output_type": "execute_result",
          "data": {
            "text/plain": [
              "(None, None)"
            ]
          },
          "metadata": {},
          "execution_count": 10
        }
      ]
    },
    {
      "cell_type": "code",
      "source": [
        "# reshape input to be array\n",
        "X_train =X_train.reshape(X_train.shape[0],X_train.shape[1] , 1)\n",
        "X_test = X_test.reshape(X_test.shape[0],X_test.shape[1] , 1)\n"
      ],
      "metadata": {
        "id": "bBJmMBTAtAYn"
      },
      "execution_count": null,
      "outputs": []
    },
    {
      "cell_type": "code",
      "source": [
        "from tensorflow.keras.models import Sequential\n",
        "from tensorflow.keras.layers import Dense\n",
        "from tensorflow.keras.layers import LSTM"
      ],
      "metadata": {
        "id": "SXXpDrSZtGQ-"
      },
      "execution_count": null,
      "outputs": []
    },
    {
      "cell_type": "markdown",
      "source": [],
      "metadata": {
        "id": "vMkIQWRDEfzV"
      }
    },
    {
      "cell_type": "code",
      "source": [
        "#build LSTM model\n",
        "model=Sequential()\n",
        "model.add(LSTM(50,return_sequences=True,input_shape=(100,1))) #LSTM layer\n",
        "model.add(LSTM(50,return_sequences=True)) #LSTM layer\n",
        "model.add(LSTM(50))\n",
        "model.add(Dense(1))\n",
        "model.compile(loss='mean_squared_error',optimizer='adam')"
      ],
      "metadata": {
        "id": "PwULevDXsTSu"
      },
      "execution_count": null,
      "outputs": []
    },
    {
      "cell_type": "code",
      "source": [
        "model.summary()\n"
      ],
      "metadata": {
        "colab": {
          "base_uri": "https://localhost:8080/"
        },
        "id": "cPjfTsCFtnhT",
        "outputId": "a9a48fe2-6953-4990-8fc9-818a9de93fb3"
      },
      "execution_count": null,
      "outputs": [
        {
          "output_type": "stream",
          "name": "stdout",
          "text": [
            "Model: \"sequential\"\n",
            "_________________________________________________________________\n",
            " Layer (type)                Output Shape              Param #   \n",
            "=================================================================\n",
            " lstm (LSTM)                 (None, 100, 50)           10400     \n",
            "                                                                 \n",
            " lstm_1 (LSTM)               (None, 100, 50)           20200     \n",
            "                                                                 \n",
            " lstm_2 (LSTM)               (None, 50)                20200     \n",
            "                                                                 \n",
            " dense (Dense)               (None, 1)                 51        \n",
            "                                                                 \n",
            "=================================================================\n",
            "Total params: 50,851\n",
            "Trainable params: 50,851\n",
            "Non-trainable params: 0\n",
            "_________________________________________________________________\n"
          ]
        }
      ]
    },
    {
      "cell_type": "code",
      "source": [
        "model.fit(X_train,y_train,validation_data=(X_test,ytest),epochs=50,batch_size=64,verbose=1) #fitting the model"
      ],
      "metadata": {
        "colab": {
          "base_uri": "https://localhost:8080/"
        },
        "id": "qwBRRmuotvKC",
        "outputId": "2eef5184-5123-4815-92fe-5e01ef72b938"
      },
      "execution_count": null,
      "outputs": [
        {
          "output_type": "stream",
          "name": "stdout",
          "text": [
            "Epoch 1/50\n",
            "15/15 [==============================] - 8s 228ms/step - loss: 0.0594 - val_loss: 0.0069\n",
            "Epoch 2/50\n",
            "15/15 [==============================] - 2s 160ms/step - loss: 0.0147 - val_loss: 8.5459e-04\n",
            "Epoch 3/50\n",
            "15/15 [==============================] - 2s 151ms/step - loss: 0.0094 - val_loss: 9.1386e-04\n",
            "Epoch 4/50\n",
            "15/15 [==============================] - 2s 148ms/step - loss: 0.0083 - val_loss: 7.3153e-04\n",
            "Epoch 5/50\n",
            "15/15 [==============================] - 2s 149ms/step - loss: 0.0074 - val_loss: 7.2882e-04\n",
            "Epoch 6/50\n",
            "15/15 [==============================] - 2s 149ms/step - loss: 0.0063 - val_loss: 0.0014\n",
            "Epoch 7/50\n",
            "15/15 [==============================] - 2s 148ms/step - loss: 0.0065 - val_loss: 0.0037\n",
            "Epoch 8/50\n",
            "15/15 [==============================] - 2s 152ms/step - loss: 0.0062 - val_loss: 0.0013\n",
            "Epoch 9/50\n",
            "15/15 [==============================] - 2s 151ms/step - loss: 0.0053 - val_loss: 6.3803e-04\n",
            "Epoch 10/50\n",
            "15/15 [==============================] - 2s 155ms/step - loss: 0.0049 - val_loss: 0.0013\n",
            "Epoch 11/50\n",
            "15/15 [==============================] - 2s 154ms/step - loss: 0.0049 - val_loss: 0.0012\n",
            "Epoch 12/50\n",
            "15/15 [==============================] - 2s 150ms/step - loss: 0.0047 - val_loss: 0.0020\n",
            "Epoch 13/50\n",
            "15/15 [==============================] - 2s 152ms/step - loss: 0.0043 - val_loss: 4.8732e-04\n",
            "Epoch 14/50\n",
            "15/15 [==============================] - 2s 150ms/step - loss: 0.0034 - val_loss: 5.3041e-04\n",
            "Epoch 15/50\n",
            "15/15 [==============================] - 2s 150ms/step - loss: 0.0035 - val_loss: 4.9279e-04\n",
            "Epoch 16/50\n",
            "15/15 [==============================] - 2s 151ms/step - loss: 0.0040 - val_loss: 8.2702e-04\n",
            "Epoch 17/50\n",
            "15/15 [==============================] - 2s 149ms/step - loss: 0.0033 - val_loss: 5.1396e-04\n",
            "Epoch 18/50\n",
            "15/15 [==============================] - 2s 153ms/step - loss: 0.0031 - val_loss: 6.4379e-04\n",
            "Epoch 19/50\n",
            "15/15 [==============================] - 2s 153ms/step - loss: 0.0028 - val_loss: 7.6895e-04\n",
            "Epoch 20/50\n",
            "15/15 [==============================] - 2s 151ms/step - loss: 0.0046 - val_loss: 7.3901e-04\n",
            "Epoch 21/50\n",
            "15/15 [==============================] - 2s 149ms/step - loss: 0.0038 - val_loss: 5.6565e-04\n",
            "Epoch 22/50\n",
            "15/15 [==============================] - 2s 153ms/step - loss: 0.0031 - val_loss: 0.0011\n",
            "Epoch 23/50\n",
            "15/15 [==============================] - 2s 149ms/step - loss: 0.0030 - val_loss: 4.2554e-04\n",
            "Epoch 24/50\n",
            "15/15 [==============================] - 2s 153ms/step - loss: 0.0027 - val_loss: 4.3557e-04\n",
            "Epoch 25/50\n",
            "15/15 [==============================] - 2s 153ms/step - loss: 0.0029 - val_loss: 6.5447e-04\n",
            "Epoch 26/50\n",
            "15/15 [==============================] - 2s 153ms/step - loss: 0.0028 - val_loss: 7.6153e-04\n",
            "Epoch 27/50\n",
            "15/15 [==============================] - 2s 157ms/step - loss: 0.0024 - val_loss: 4.0620e-04\n",
            "Epoch 28/50\n",
            "15/15 [==============================] - 2s 151ms/step - loss: 0.0023 - val_loss: 7.2309e-04\n",
            "Epoch 29/50\n",
            "15/15 [==============================] - 2s 154ms/step - loss: 0.0024 - val_loss: 4.5137e-04\n",
            "Epoch 30/50\n",
            "15/15 [==============================] - 2s 156ms/step - loss: 0.0026 - val_loss: 4.5150e-04\n",
            "Epoch 31/50\n",
            "15/15 [==============================] - 2s 152ms/step - loss: 0.0026 - val_loss: 6.8601e-04\n",
            "Epoch 32/50\n",
            "15/15 [==============================] - 2s 154ms/step - loss: 0.0025 - val_loss: 5.3297e-04\n",
            "Epoch 33/50\n",
            "15/15 [==============================] - 2s 154ms/step - loss: 0.0023 - val_loss: 7.8914e-04\n",
            "Epoch 34/50\n",
            "15/15 [==============================] - 2s 152ms/step - loss: 0.0021 - val_loss: 3.7645e-04\n",
            "Epoch 35/50\n",
            "15/15 [==============================] - 2s 151ms/step - loss: 0.0020 - val_loss: 4.7494e-04\n",
            "Epoch 36/50\n",
            "15/15 [==============================] - 2s 153ms/step - loss: 0.0021 - val_loss: 5.0820e-04\n",
            "Epoch 37/50\n",
            "15/15 [==============================] - 2s 152ms/step - loss: 0.0018 - val_loss: 3.5820e-04\n",
            "Epoch 38/50\n",
            "15/15 [==============================] - 2s 156ms/step - loss: 0.0017 - val_loss: 3.6051e-04\n",
            "Epoch 39/50\n",
            "15/15 [==============================] - 2s 151ms/step - loss: 0.0019 - val_loss: 3.9441e-04\n",
            "Epoch 40/50\n",
            "15/15 [==============================] - 2s 155ms/step - loss: 0.0023 - val_loss: 6.4265e-04\n",
            "Epoch 41/50\n",
            "15/15 [==============================] - 2s 153ms/step - loss: 0.0023 - val_loss: 3.7320e-04\n",
            "Epoch 42/50\n",
            "15/15 [==============================] - 2s 150ms/step - loss: 0.0024 - val_loss: 8.3799e-04\n",
            "Epoch 43/50\n",
            "15/15 [==============================] - 2s 154ms/step - loss: 0.0027 - val_loss: 4.4159e-04\n",
            "Epoch 44/50\n",
            "15/15 [==============================] - 3s 217ms/step - loss: 0.0025 - val_loss: 6.0387e-04\n",
            "Epoch 45/50\n",
            "15/15 [==============================] - 2s 155ms/step - loss: 0.0026 - val_loss: 3.3998e-04\n",
            "Epoch 46/50\n",
            "15/15 [==============================] - 2s 157ms/step - loss: 0.0022 - val_loss: 4.4409e-04\n",
            "Epoch 47/50\n",
            "15/15 [==============================] - 2s 152ms/step - loss: 0.0019 - val_loss: 5.1365e-04\n",
            "Epoch 48/50\n",
            "15/15 [==============================] - 2s 160ms/step - loss: 0.0019 - val_loss: 4.1624e-04\n",
            "Epoch 49/50\n",
            "15/15 [==============================] - 2s 158ms/step - loss: 0.0019 - val_loss: 3.7336e-04\n",
            "Epoch 50/50\n",
            "15/15 [==============================] - 2s 163ms/step - loss: 0.0017 - val_loss: 4.6885e-04\n"
          ]
        },
        {
          "output_type": "execute_result",
          "data": {
            "text/plain": [
              "<keras.callbacks.History at 0x7f5f814059d0>"
            ]
          },
          "metadata": {},
          "execution_count": 15
        }
      ]
    },
    {
      "cell_type": "code",
      "source": [
        "import tensorflow as tf"
      ],
      "metadata": {
        "id": "Av_BwdOztx7L"
      },
      "execution_count": null,
      "outputs": []
    },
    {
      "cell_type": "code",
      "source": [
        "#LSTM prediction\n",
        "train_predict=model.predict(X_train)\n",
        "y_predicate=model.predict(X_test)"
      ],
      "metadata": {
        "id": "JAH70AKPt2eH"
      },
      "execution_count": null,
      "outputs": []
    },
    {
      "cell_type": "code",
      "source": [
        "### Calculate RMSE performance metrics\n",
        "import math\n",
        "from sklearn.metrics import mean_squared_error\n",
        "math.sqrt(mean_squared_error(y_train,train_predict))"
      ],
      "metadata": {
        "colab": {
          "base_uri": "https://localhost:8080/"
        },
        "id": "HWZ8rRAEt4jm",
        "outputId": "f567995c-a36a-42a1-ead5-e3e2f423e9a9"
      },
      "execution_count": null,
      "outputs": [
        {
          "output_type": "execute_result",
          "data": {
            "text/plain": [
              "0.03933083680428229"
            ]
          },
          "metadata": {},
          "execution_count": 27
        }
      ]
    },
    {
      "cell_type": "code",
      "source": [
        "#error calculation\n",
        "from sklearn import metrics\n",
        "print(\"root mean squared error :\",np.sqrt(metrics.mean_squared_error(ytest,y_predicate)))\n",
        "print(\"mean squared error :\", metrics.mean_squared_error(ytest,y_predicate))\n",
        "print(\"mean absolute :\", metrics.mean_absolute_error(ytest,y_predicate))"
      ],
      "metadata": {
        "id": "Xq79RBikt6e8"
      },
      "execution_count": null,
      "outputs": []
    },
    {
      "cell_type": "code",
      "source": [
        "#model evaluation accuracy\n",
        "from sklearn.metrics import r2_score\n",
        "r2_score(ytest,y_predicate)"
      ],
      "metadata": {
        "colab": {
          "base_uri": "https://localhost:8080/"
        },
        "id": "tgGPXeth7BW-",
        "outputId": "dd3ca26a-06a1-41e3-f0b4-463987a35ac2"
      },
      "execution_count": null,
      "outputs": [
        {
          "output_type": "execute_result",
          "data": {
            "text/plain": [
              "0.7674544771350787"
            ]
          },
          "metadata": {},
          "execution_count": 30
        }
      ]
    },
    {
      "cell_type": "code",
      "source": [
        "#visualization for evaluation\n",
        "dataFram2= pd.DataFrame({'actual':ytest.flatten(), 'predicted':y_predicate.flatten()})\n",
        "\n",
        "visual= dataFram2.head(20)\n",
        "visual.plot(kind='bar',figsize=(12, 4))"
      ],
      "metadata": {
        "colab": {
          "base_uri": "https://localhost:8080/",
          "height": 288
        },
        "id": "Mz_a3n3E2Y8N",
        "outputId": "e279bfb3-d370-41ac-931b-0610cb21c1c3"
      },
      "execution_count": null,
      "outputs": [
        {
          "output_type": "execute_result",
          "data": {
            "text/plain": [
              "<matplotlib.axes._subplots.AxesSubplot at 0x7f5f7e077f10>"
            ]
          },
          "metadata": {},
          "execution_count": 31
        },
        {
          "output_type": "display_data",
          "data": {
            "text/plain": [
              "<Figure size 864x288 with 1 Axes>"
            ],
            "image/png": "[encoded data removed]"
          },
          "metadata": {
            "needs_background": "light"
          }
        }
      ]
    }
  ]
}