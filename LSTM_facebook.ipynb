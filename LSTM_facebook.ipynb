{
  "nbformat": 4,
  "nbformat_minor": 0,
  "metadata": {
    "colab": {
      "provenance": []
    },
    "kernelspec": {
      "name": "python3",
      "display_name": "Python 3"
    },
    "language_info": {
      "name": "python"
    }
  },
  "cells": [
    {
      "cell_type": "markdown",
      "source": [
        "LSTM Approach for Stock Market Prediction (Facebook) - Stock Market History\n",
        "\n",
        "---\n",
        "Osamah Adam Mohammed\n",
        "\n",
        "\n",
        "Sep-5-2023\n",
        "\n",
        "\n",
        "onyx-snow.com"
      ],
      "metadata": {
        "id": "V7zNoHbIUhos"
      }
    },
    {
      "cell_type": "markdown",
      "source": [
        "Note: data is available from kaggle\n",
        "\n",
        "https://www.kaggle.com/datasets/kalilurrahman/facebook-stock-data-live-and-latest"
      ],
      "metadata": {
        "id": "Twv59xI5Vz4B"
      }
    },
    {
      "cell_type": "code",
      "source": [
        "df4=df5.drop('Dividends',1)\n",
        "df3=df4.drop('Stock Splits',1)"
      ],
      "metadata": {
        "colab": {
          "base_uri": "https://localhost:8080/"
        },
        "id": "kR_HPokw8Xta",
        "outputId": "fd474b20-c133-45e4-b74c-4cd7e38298f1"
      },
      "execution_count": null,
      "outputs": [
        {
          "output_type": "stream",
          "name": "stderr",
          "text": [
            "/usr/local/lib/python3.7/dist-packages/ipykernel_launcher.py:1: FutureWarning: In a future version of pandas all arguments of DataFrame.drop except for the argument 'labels' will be keyword-only\n",
            "  \"\"\"Entry point for launching an IPython kernel.\n",
            "/usr/local/lib/python3.7/dist-packages/ipykernel_launcher.py:2: FutureWarning: In a future version of pandas all arguments of DataFrame.drop except for the argument 'labels' will be keyword-only\n",
            "  \n"
          ]
        }
      ]
    },
    {
      "cell_type": "code",
      "source": [
        "#pick target which is close\n",
        "data1=df3.reset_index()['Close']"
      ],
      "metadata": {
        "id": "Xpr69rdH8aiT"
      },
      "execution_count": null,
      "outputs": []
    },
    {
      "cell_type": "code",
      "source": [
        "plt.plot(data1) #showing the plot"
      ],
      "metadata": {
        "colab": {
          "base_uri": "https://localhost:8080/",
          "height": 286
        },
        "id": "U7X983Lpfq_U",
        "outputId": "d40e631c-17f8-4086-9a7d-8dc42f396832"
      },
      "execution_count": null,
      "outputs": [
        {
          "output_type": "execute_result",
          "data": {
            "text/plain": [
              "[<matplotlib.lines.Line2D at 0x7fc843dc04d0>]"
            ]
          },
          "metadata": {},
          "execution_count": 5
        },
        {
          "output_type": "display_data",
          "data": {
            "text/plain": [
              "<Figure size 432x288 with 1 Axes>"
            ],
            "image/png": "[encoded data removed]"
          },
          "metadata": {
            "needs_background": "light"
          }
        }
      ]
    },
    {
      "cell_type": "code",
      "source": [
        "# MinMax scaler\n",
        "from sklearn.preprocessing import MinMaxScaler\n",
        "scaler=MinMaxScaler(feature_range=(0,1))\n",
        "data1=scaler.fit_transform(np.array(data1).reshape(-1,1))"
      ],
      "metadata": {
        "id": "f2ASc26PkjjE"
      },
      "execution_count": null,
      "outputs": []
    },
    {
      "cell_type": "code",
      "source": [
        "data1"
      ],
      "metadata": {
        "colab": {
          "base_uri": "https://localhost:8080/"
        },
        "id": "IyBWiVTak64L",
        "outputId": "da19e79a-1043-413e-9d35-f67b36c87dfe"
      },
      "execution_count": null,
      "outputs": [
        {
          "output_type": "execute_result",
          "data": {
            "text/plain": [
              "array([[0.05624914],\n",
              "       [0.04472493],\n",
              "       [0.03641103],\n",
              "       ...,\n",
              "       [0.88319383],\n",
              "       [0.88259026],\n",
              "       [0.89252302]])"
            ]
          },
          "metadata": {},
          "execution_count": 7
        }
      ]
    },
    {
      "cell_type": "code",
      "source": [
        "training_size=int(len(data1)*0.80)\n",
        "test_size=len(data1)-training_size\n",
        "train_data,test_data=data1[0:training_size,:],data1[training_size:len(data1),:1]"
      ],
      "metadata": {
        "id": "LCPESl-FmPAb"
      },
      "execution_count": null,
      "outputs": []
    },
    {
      "cell_type": "code",
      "source": [
        "import numpy\n",
        "def create_dataset(dataset, time_step=1):\n",
        "\tdataX, dataY = [], []\n",
        "\tfor i in range(len(dataset)-time_step-1):\n",
        "\t\ta = dataset[i:(i+time_step), 0]\n",
        "\t\tdataX.append(a)\n",
        "\t\tdataY.append(dataset[i + time_step, 0])\n",
        "\treturn numpy.array(dataX), numpy.array(dataY)"
      ],
      "metadata": {
        "id": "V-lxQYlMqHq6"
      },
      "execution_count": null,
      "outputs": []
    },
    {
      "cell_type": "code",
      "source": [
        "# split data\n",
        "time_step = 100\n",
        "X_train, y_train = create_dataset(train_data, time_step)\n",
        "X_test, ytest = create_dataset(test_data, time_step)"
      ],
      "metadata": {
        "id": "apK0K27-sgO4"
      },
      "execution_count": null,
      "outputs": []
    },
    {
      "cell_type": "code",
      "source": [
        "print(X_test.shape), print(ytest.shape)"
      ],
      "metadata": {
        "colab": {
          "base_uri": "https://localhost:8080/"
        },
        "id": "vOicVnwEtMZC",
        "outputId": "c9f64044-f333-4f2c-8199-15de47d1c726"
      },
      "execution_count": null,
      "outputs": [
        {
          "output_type": "stream",
          "name": "stdout",
          "text": [
            "(371, 100)\n",
            "(371,)\n"
          ]
        },
        {
          "output_type": "execute_result",
          "data": {
            "text/plain": [
              "(None, None)"
            ]
          },
          "metadata": {},
          "execution_count": 11
        }
      ]
    },
    {
      "cell_type": "code",
      "source": [
        "print(X_train.shape), print(y_train.shape)"
      ],
      "metadata": {
        "colab": {
          "base_uri": "https://localhost:8080/"
        },
        "id": "aiSoB5xmtJal",
        "outputId": "d3a6e90c-f787-4b20-e686-c2df0555cf6d"
      },
      "execution_count": null,
      "outputs": [
        {
          "output_type": "stream",
          "name": "stdout",
          "text": [
            "(1786, 100)\n",
            "(1786,)\n"
          ]
        },
        {
          "output_type": "execute_result",
          "data": {
            "text/plain": [
              "(None, None)"
            ]
          },
          "metadata": {},
          "execution_count": 12
        }
      ]
    },
    {
      "cell_type": "code",
      "source": [
        "# reshape input to be array\n",
        "\n",
        "X_train =X_train.reshape(X_train.shape[0],X_train.shape[1] , 1)\n",
        "\n",
        "X_test = X_test.reshape(X_test.shape[0],X_test.shape[1] , 1)\n"
      ],
      "metadata": {
        "id": "bBJmMBTAtAYn"
      },
      "execution_count": null,
      "outputs": []
    },
    {
      "cell_type": "code",
      "source": [
        "print(X_train)"
      ],
      "metadata": {
        "colab": {
          "base_uri": "https://localhost:8080/"
        },
        "id": "hRO1QfADxUL3",
        "outputId": "bbd29c29-9a64-4e26-9fb0-96fda9682b45"
      },
      "execution_count": null,
      "outputs": [
        {
          "output_type": "stream",
          "name": "stdout",
          "text": [
            "[[[0.05624914]\n",
            "  [0.04472493]\n",
            "  [0.03641103]\n",
            "  ...\n",
            "  [0.00872548]\n",
            "  [0.00732611]\n",
            "  [0.00685965]]\n",
            "\n",
            " [[0.04472493]\n",
            "  [0.03641103]\n",
            "  [0.03915489]\n",
            "  ...\n",
            "  [0.00732611]\n",
            "  [0.00685965]\n",
            "  [0.00524077]]\n",
            "\n",
            " [[0.03641103]\n",
            "  [0.03915489]\n",
            "  [0.04198107]\n",
            "  ...\n",
            "  [0.00685965]\n",
            "  [0.00524077]\n",
            "  [0.0055426 ]]\n",
            "\n",
            " ...\n",
            "\n",
            " [[0.47581288]\n",
            "  [0.47981893]\n",
            "  [0.46950199]\n",
            "  ...\n",
            "  [0.47383729]\n",
            "  [0.47498971]\n",
            "  [0.47161477]]\n",
            "\n",
            " [[0.47981893]\n",
            "  [0.46950199]\n",
            "  [0.46626425]\n",
            "  ...\n",
            "  [0.47498971]\n",
            "  [0.47161477]\n",
            "  [0.48494994]]\n",
            "\n",
            " [[0.46950199]\n",
            "  [0.46626425]\n",
            "  [0.47131295]\n",
            "  ...\n",
            "  [0.47161477]\n",
            "  [0.48494994]\n",
            "  [0.4814378 ]]]\n"
          ]
        }
      ]
    },
    {
      "cell_type": "code",
      "source": [
        "from tensorflow.keras.models import Sequential\n",
        "from tensorflow.keras.layers import Dense\n",
        "from tensorflow.keras.layers import LSTM"
      ],
      "metadata": {
        "id": "SXXpDrSZtGQ-"
      },
      "execution_count": null,
      "outputs": []
    },
    {
      "cell_type": "code",
      "source": [
        "#build LSTM model\n",
        "\n",
        "model=Sequential()\n",
        "\n",
        "model.add(LSTM(50,return_sequences=True,input_shape=(100,1))) #LSTM layer\n",
        "\n",
        "model.add(LSTM(50,return_sequences=True)) #LSTM layer\n",
        "\n",
        "model.add(LSTM(50))\n",
        "\n",
        "model.add(Dense(1))\n",
        "\n",
        "model.compile(loss='mean_squared_error',optimizer='adam')"
      ],
      "metadata": {
        "id": "PwULevDXsTSu"
      },
      "execution_count": null,
      "outputs": []
    },
    {
      "cell_type": "code",
      "source": [
        "model.summary()\n"
      ],
      "metadata": {
        "colab": {
          "base_uri": "https://localhost:8080/"
        },
        "id": "cPjfTsCFtnhT",
        "outputId": "d4c5a7bc-439d-4173-d677-8160628db19a"
      },
      "execution_count": null,
      "outputs": [
        {
          "output_type": "stream",
          "name": "stdout",
          "text": [
            "Model: \"sequential\"\n",
            "_________________________________________________________________\n",
            " Layer (type)                Output Shape              Param #   \n",
            "=================================================================\n",
            " lstm (LSTM)                 (None, 100, 50)           10400     \n",
            "                                                                 \n",
            " lstm_1 (LSTM)               (None, 100, 50)           20200     \n",
            "                                                                 \n",
            " lstm_2 (LSTM)               (None, 50)                20200     \n",
            "                                                                 \n",
            " dense (Dense)               (None, 1)                 51        \n",
            "                                                                 \n",
            "=================================================================\n",
            "Total params: 50,851\n",
            "Trainable params: 50,851\n",
            "Non-trainable params: 0\n",
            "_________________________________________________________________\n"
          ]
        }
      ]
    },
    {
      "cell_type": "code",
      "source": [
        "model.fit(X_train,y_train,validation_data=(X_test,ytest),epochs=50,batch_size=64,verbose=1) #fitting the model"
      ],
      "metadata": {
        "colab": {
          "base_uri": "https://localhost:8080/"
        },
        "id": "qwBRRmuotvKC",
        "outputId": "a3b254f5-5e14-4a27-84ec-9ec4cf633c1b"
      },
      "execution_count": null,
      "outputs": [
        {
          "output_type": "stream",
          "name": "stdout",
          "text": [
            "Epoch 1/50\n",
            "28/28 [==============================] - 15s 288ms/step - loss: 0.0143 - val_loss: 0.0055\n",
            "Epoch 2/50\n",
            "28/28 [==============================] - 6s 204ms/step - loss: 5.8412e-04 - val_loss: 0.0015\n",
            "Epoch 3/50\n",
            "28/28 [==============================] - 6s 206ms/step - loss: 2.8283e-04 - val_loss: 0.0036\n",
            "Epoch 4/50\n",
            "28/28 [==============================] - 6s 210ms/step - loss: 2.6906e-04 - val_loss: 0.0033\n",
            "Epoch 5/50\n",
            "28/28 [==============================] - 6s 209ms/step - loss: 2.5515e-04 - val_loss: 0.0032\n",
            "Epoch 6/50\n",
            "28/28 [==============================] - 6s 207ms/step - loss: 2.5812e-04 - val_loss: 0.0041\n",
            "Epoch 7/50\n",
            "28/28 [==============================] - 6s 205ms/step - loss: 2.5724e-04 - val_loss: 0.0038\n",
            "Epoch 8/50\n",
            "28/28 [==============================] - 6s 224ms/step - loss: 2.5658e-04 - val_loss: 0.0045\n",
            "Epoch 9/50\n",
            "28/28 [==============================] - 6s 223ms/step - loss: 2.5814e-04 - val_loss: 0.0062\n",
            "Epoch 10/50\n",
            "28/28 [==============================] - 6s 201ms/step - loss: 2.5741e-04 - val_loss: 0.0045\n",
            "Epoch 11/50\n",
            "28/28 [==============================] - 6s 204ms/step - loss: 2.4604e-04 - val_loss: 0.0040\n",
            "Epoch 12/50\n",
            "28/28 [==============================] - 6s 201ms/step - loss: 2.4514e-04 - val_loss: 0.0031\n",
            "Epoch 13/50\n",
            "28/28 [==============================] - 6s 200ms/step - loss: 2.4208e-04 - val_loss: 0.0055\n",
            "Epoch 14/50\n",
            "28/28 [==============================] - 6s 204ms/step - loss: 2.3853e-04 - val_loss: 0.0042\n",
            "Epoch 15/50\n",
            "28/28 [==============================] - 6s 202ms/step - loss: 2.2907e-04 - val_loss: 0.0039\n",
            "Epoch 16/50\n",
            "28/28 [==============================] - 6s 204ms/step - loss: 2.2407e-04 - val_loss: 0.0031\n",
            "Epoch 17/50\n",
            "28/28 [==============================] - 6s 205ms/step - loss: 2.2753e-04 - val_loss: 0.0029\n",
            "Epoch 18/50\n",
            "28/28 [==============================] - 6s 205ms/step - loss: 2.2592e-04 - val_loss: 0.0041\n",
            "Epoch 19/50\n",
            "28/28 [==============================] - 6s 202ms/step - loss: 2.2522e-04 - val_loss: 0.0061\n",
            "Epoch 20/50\n",
            "28/28 [==============================] - 6s 203ms/step - loss: 2.2739e-04 - val_loss: 0.0021\n",
            "Epoch 21/50\n",
            "28/28 [==============================] - 6s 201ms/step - loss: 2.1407e-04 - val_loss: 0.0040\n",
            "Epoch 22/50\n",
            "28/28 [==============================] - 6s 207ms/step - loss: 2.2321e-04 - val_loss: 0.0029\n",
            "Epoch 23/50\n",
            "28/28 [==============================] - 6s 203ms/step - loss: 2.0605e-04 - val_loss: 0.0030\n",
            "Epoch 24/50\n",
            "28/28 [==============================] - 6s 205ms/step - loss: 2.0545e-04 - val_loss: 0.0027\n",
            "Epoch 25/50\n",
            "28/28 [==============================] - 6s 203ms/step - loss: 2.0900e-04 - val_loss: 0.0035\n",
            "Epoch 26/50\n",
            "28/28 [==============================] - 6s 206ms/step - loss: 1.9748e-04 - val_loss: 0.0027\n",
            "Epoch 27/50\n",
            "28/28 [==============================] - 6s 205ms/step - loss: 2.0712e-04 - val_loss: 0.0022\n",
            "Epoch 28/50\n",
            "28/28 [==============================] - 6s 205ms/step - loss: 1.9580e-04 - val_loss: 0.0032\n",
            "Epoch 29/50\n",
            "28/28 [==============================] - 6s 208ms/step - loss: 1.9447e-04 - val_loss: 0.0034\n",
            "Epoch 30/50\n",
            "28/28 [==============================] - 6s 202ms/step - loss: 2.1190e-04 - val_loss: 0.0020\n",
            "Epoch 31/50\n",
            "28/28 [==============================] - 6s 203ms/step - loss: 1.9266e-04 - val_loss: 0.0034\n",
            "Epoch 32/50\n",
            "28/28 [==============================] - 6s 203ms/step - loss: 1.8840e-04 - val_loss: 0.0030\n",
            "Epoch 33/50\n",
            "28/28 [==============================] - 6s 202ms/step - loss: 1.8472e-04 - val_loss: 0.0038\n",
            "Epoch 34/50\n",
            "28/28 [==============================] - 6s 206ms/step - loss: 2.1386e-04 - val_loss: 0.0018\n",
            "Epoch 35/50\n",
            "28/28 [==============================] - 6s 210ms/step - loss: 2.1794e-04 - val_loss: 0.0020\n",
            "Epoch 36/50\n",
            "28/28 [==============================] - 6s 207ms/step - loss: 1.8112e-04 - val_loss: 0.0031\n",
            "Epoch 37/50\n",
            "28/28 [==============================] - 6s 205ms/step - loss: 1.7883e-04 - val_loss: 0.0024\n",
            "Epoch 38/50\n",
            "28/28 [==============================] - 6s 205ms/step - loss: 1.8737e-04 - val_loss: 0.0023\n",
            "Epoch 39/50\n",
            "28/28 [==============================] - 6s 208ms/step - loss: 1.7626e-04 - val_loss: 0.0025\n",
            "Epoch 40/50\n",
            "28/28 [==============================] - 6s 208ms/step - loss: 1.8322e-04 - val_loss: 0.0032\n",
            "Epoch 41/50\n",
            "28/28 [==============================] - 6s 207ms/step - loss: 1.9439e-04 - val_loss: 0.0029\n",
            "Epoch 42/50\n",
            "28/28 [==============================] - 6s 205ms/step - loss: 1.7288e-04 - val_loss: 0.0023\n",
            "Epoch 43/50\n",
            "28/28 [==============================] - 6s 209ms/step - loss: 1.7596e-04 - val_loss: 0.0026\n",
            "Epoch 44/50\n",
            "28/28 [==============================] - 6s 208ms/step - loss: 1.8537e-04 - val_loss: 0.0022\n",
            "Epoch 45/50\n",
            "28/28 [==============================] - 6s 207ms/step - loss: 1.8505e-04 - val_loss: 0.0021\n",
            "Epoch 46/50\n",
            "28/28 [==============================] - 6s 205ms/step - loss: 1.8387e-04 - val_loss: 0.0022\n",
            "Epoch 47/50\n",
            "28/28 [==============================] - 6s 206ms/step - loss: 1.6364e-04 - val_loss: 0.0015\n",
            "Epoch 48/50\n",
            "28/28 [==============================] - 6s 206ms/step - loss: 1.8881e-04 - val_loss: 0.0027\n",
            "Epoch 49/50\n",
            "28/28 [==============================] - 6s 203ms/step - loss: 1.8259e-04 - val_loss: 0.0026\n",
            "Epoch 50/50\n",
            "28/28 [==============================] - 6s 204ms/step - loss: 1.7349e-04 - val_loss: 0.0016\n"
          ]
        },
        {
          "output_type": "execute_result",
          "data": {
            "text/plain": [
              "<keras.callbacks.History at 0x7fc7c82c2090>"
            ]
          },
          "metadata": {},
          "execution_count": 18
        }
      ]
    },
    {
      "cell_type": "code",
      "source": [
        "import tensorflow as tf"
      ],
      "metadata": {
        "id": "Av_BwdOztx7L"
      },
      "execution_count": null,
      "outputs": []
    },
    {
      "cell_type": "code",
      "source": [
        "# LSTM prediction\n",
        "train_predict=model.predict(X_train)\n",
        "y_predicate=model.predict(X_test)"
      ],
      "metadata": {
        "id": "JAH70AKPt2eH"
      },
      "execution_count": null,
      "outputs": []
    },
    {
      "cell_type": "code",
      "source": [
        "### Calculate RMSE performance metrics\n",
        "import math\n",
        "from sklearn.metrics import mean_squared_error\n",
        "math.sqrt(mean_squared_error(y_train,train_predict))"
      ],
      "metadata": {
        "colab": {
          "base_uri": "https://localhost:8080/"
        },
        "id": "HWZ8rRAEt4jm",
        "outputId": "f572871c-8e43-4ff7-cc88-2564acc16f3a"
      },
      "execution_count": null,
      "outputs": [
        {
          "output_type": "execute_result",
          "data": {
            "text/plain": [
              "0.013298216441049957"
            ]
          },
          "metadata": {},
          "execution_count": 29
        }
      ]
    },
    {
      "cell_type": "code",
      "source": [
        "#error calculation\n",
        "from sklearn import metrics\n",
        "print(\"root mean squared error :\",np.sqrt(metrics.mean_squared_error(ytest,test_predict)))\n",
        "print(\"mean squared error :\", metrics.mean_squared_error(ytest,y_predicate))\n",
        "print(\"mean absolute :\", metrics.mean_absolute_error(ytest,y_predicate))"
      ],
      "metadata": {
        "colab": {
          "base_uri": "https://localhost:8080/"
        },
        "id": "Xq79RBikt6e8",
        "outputId": "5301d71b-780f-455e-b1b6-5b821345369b"
      },
      "execution_count": null,
      "outputs": [
        {
          "output_type": "stream",
          "name": "stdout",
          "text": [
            "root mean squared error : 0.03986267107416222\n",
            "mean squared error : 0.0015890325451668496\n",
            "mean absolute : 0.03129816885610347\n"
          ]
        }
      ]
    },
    {
      "cell_type": "code",
      "source": [
        "#differences\n",
        "dataFrame= pd.DataFrame({'actual':ytest.flatten(), 'predicted':y_predicate.flatten(), 'Differences':ytest.flatten()-y_predicate.flatten()})\n",
        "print(dataFrame)"
      ],
      "metadata": {
        "colab": {
          "base_uri": "https://localhost:8080/"
        },
        "id": "oA3g3-w11Smt",
        "outputId": "0b149200-1d06-4abb-ec68-584896947dbf"
      },
      "execution_count": null,
      "outputs": [
        {
          "output_type": "stream",
          "name": "stdout",
          "text": [
            "       actual  predicted  Differences\n",
            "0    0.440225   0.416027     0.024198\n",
            "1    0.436932   0.421868     0.015065\n",
            "2    0.434957   0.427700     0.007257\n",
            "3    0.443161   0.433071     0.010090\n",
            "4    0.440417   0.438015     0.002402\n",
            "..        ...        ...          ...\n",
            "366  0.919824   0.883567     0.036257\n",
            "367  0.921526   0.873168     0.048357\n",
            "368  0.886047   0.864817     0.021231\n",
            "369  0.883194   0.856906     0.026288\n",
            "370  0.882590   0.849517     0.033073\n",
            "\n",
            "[371 rows x 3 columns]\n"
          ]
        }
      ]
    },
    {
      "cell_type": "code",
      "source": [
        "#model evaluation accuracy\n",
        "from sklearn.metrics import r2_score\n",
        "r2_score(ytest,y_predicate)"
      ],
      "metadata": {
        "colab": {
          "base_uri": "https://localhost:8080/"
        },
        "id": "-Zuh81g_7Ij5",
        "outputId": "8fd14fdf-57df-4d74-a2ff-2c6f3f4068d9"
      },
      "execution_count": null,
      "outputs": [
        {
          "output_type": "execute_result",
          "data": {
            "text/plain": [
              "0.9090719902218446"
            ]
          },
          "metadata": {},
          "execution_count": 33
        }
      ]
    },
    {
      "cell_type": "code",
      "source": [
        "#visualization for evaluation\n",
        "dataFram2= pd.DataFrame({'actual':ytest.flatten(), 'predicted':y_predicate.flatten()})\n",
        "\n",
        "visual= dataFram2.head(20)\n",
        "visual.plot(kind='bar',figsize=(12, 4))"
      ],
      "metadata": {
        "colab": {
          "base_uri": "https://localhost:8080/",
          "height": 285
        },
        "id": "7zcd7kf-7OwA",
        "outputId": "8db24a0c-5388-4eba-a398-35784d8bf803"
      },
      "execution_count": null,
      "outputs": [
        {
          "output_type": "execute_result",
          "data": {
            "text/plain": [
              "<matplotlib.axes._subplots.AxesSubplot at 0x7fc7c7af8b10>"
            ]
          },
          "metadata": {},
          "execution_count": 34
        },
        {
          "output_type": "display_data",
          "data": {
            "text/plain": [
              "<Figure size 864x288 with 1 Axes>"
            ],
            "image/png": "[encoded data removed]"
          },
          "metadata": {
            "needs_background": "light"
          }
        }
      ]
    }
  ]
}