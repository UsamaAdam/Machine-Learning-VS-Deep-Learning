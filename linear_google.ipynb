{
  "nbformat": 4,
  "nbformat_minor": 0,
  "metadata": {
    "colab": {
      "provenance": []
    },
    "kernelspec": {
      "name": "python3",
      "display_name": "Python 3"
    },
    "language_info": {
      "name": "python"
    }
  },
  "cells": [
    {
      "cell_type": "markdown",
      "source": [
        "Linear Regression Approach for Stock Market Prediction (Google) - Stock Market History\n",
        "\n",
        "\n",
        "---\n",
        "Osamah Adam Mohammed\n",
        "\n",
        "\n",
        "Sep-5-2023\n",
        "\n",
        "\n",
        "onyx-snow.com"
      ],
      "metadata": {
        "id": "mejJd0SAXuxj"
      }
    },
    {
      "cell_type": "markdown",
      "source": [
        "Note: data is available from kaggle\n",
        "\n",
        "https://www.kaggle.com/datasets/rahulsah06/gooogle-stock-price"
      ],
      "metadata": {
        "id": "m4CErrUNX1e-"
      }
    },
    {
      "cell_type": "code",
      "execution_count": null,
      "metadata": {
        "colab": {
          "base_uri": "https://localhost:8080/",
          "height": 112
        },
        "id": "_Swsh0-t0hgw",
        "outputId": "60496fb5-5df7-418f-91d5-c65bb8119edb"
      },
      "outputs": [
        {
          "output_type": "execute_result",
          "data": {
            "text/plain": [
              "       Date    Open    High     Low   Close   Volume\n",
              "0  1/3/2012  325.25  332.83  324.97  663.59  7380500\n",
              "1  1/4/2012  331.27  333.87  329.08  666.45  5749400"
            ],
            "text/html": [
              "\n",
              "  <div id=\"df-3ede5f1e-b49c-4347-b047-d176866469a9\">\n",
              "    <div class=\"colab-df-container\">\n",
              "      <div>\n",
              "<style scoped>\n",
              "    .dataframe tbody tr th:only-of-type {\n",
              "        vertical-align: middle;\n",
              "    }\n",
              "\n",
              "    .dataframe tbody tr th {\n",
              "        vertical-align: top;\n",
              "    }\n",
              "\n",
              "    .dataframe thead th {\n",
              "        text-align: right;\n",
              "    }\n",
              "</style>\n",
              "<table border=\"1\" class=\"dataframe\">\n",
              "  <thead>\n",
              "    <tr style=\"text-align: right;\">\n",
              "      <th></th>\n",
              "      <th>Date</th>\n",
              "      <th>Open</th>\n",
              "      <th>High</th>\n",
              "      <th>Low</th>\n",
              "      <th>Close</th>\n",
              "      <th>Volume</th>\n",
              "    </tr>\n",
              "  </thead>\n",
              "  <tbody>\n",
              "    <tr>\n",
              "      <th>0</th>\n",
              "      <td>1/3/2012</td>\n",
              "      <td>325.25</td>\n",
              "      <td>332.83</td>\n",
              "      <td>324.97</td>\n",
              "      <td>663.59</td>\n",
              "      <td>7380500</td>\n",
              "    </tr>\n",
              "    <tr>\n",
              "      <th>1</th>\n",
              "      <td>1/4/2012</td>\n",
              "      <td>331.27</td>\n",
              "      <td>333.87</td>\n",
              "      <td>329.08</td>\n",
              "      <td>666.45</td>\n",
              "      <td>5749400</td>\n",
              "    </tr>\n",
              "  </tbody>\n",
              "</table>\n",
              "</div>\n",
              "      <button class=\"colab-df-convert\" onclick=\"convertToInteractive('df-3ede5f1e-b49c-4347-b047-d176866469a9')\"\n",
              "              title=\"Convert this dataframe to an interactive table.\"\n",
              "              style=\"display:none;\">\n",
              "        \n",
              "  <svg xmlns=\"http://www.w3.org/2000/svg\" height=\"24px\"viewBox=\"0 0 24 24\"\n",
              "       width=\"24px\">\n",
              "    <path d=\"M0 0h24v24H0V0z\" fill=\"none\"/>\n",
              "    <path d=\"M18.56 5.44l.94 2.06.94-2.06 2.06-.94-2.06-.94-.94-2.06-.94 2.06-2.06.94zm-11 1L8.5 8.5l.94-2.06 2.06-.94-2.06-.94L8.5 2.5l-.94 2.06-2.06.94zm10 10l.94 2.06.94-2.06 2.06-.94-2.06-.94-.94-2.06-.94 2.06-2.06.94z\"/><path d=\"M17.41 7.96l-1.37-1.37c-.4-.4-.92-.59-1.43-.59-.52 0-1.04.2-1.43.59L10.3 9.45l-7.72 7.72c-.78.78-.78 2.05 0 2.83L4 21.41c.39.39.9.59 1.41.59.51 0 1.02-.2 1.41-.59l7.78-7.78 2.81-2.81c.8-.78.8-2.07 0-2.86zM5.41 20L4 18.59l7.72-7.72 1.47 1.35L5.41 20z\"/>\n",
              "  </svg>\n",
              "      </button>\n",
              "      \n",
              "  <style>\n",
              "    .colab-df-container {\n",
              "      display:flex;\n",
              "      flex-wrap:wrap;\n",
              "      gap: 12px;\n",
              "    }\n",
              "\n",
              "    .colab-df-convert {\n",
              "      background-color: #E8F0FE;\n",
              "      border: none;\n",
              "      border-radius: 50%;\n",
              "      cursor: pointer;\n",
              "      display: none;\n",
              "      fill: #1967D2;\n",
              "      height: 32px;\n",
              "      padding: 0 0 0 0;\n",
              "      width: 32px;\n",
              "    }\n",
              "\n",
              "    .colab-df-convert:hover {\n",
              "      background-color: #E2EBFA;\n",
              "      box-shadow: 0px 1px 2px rgba(60, 64, 67, 0.3), 0px 1px 3px 1px rgba(60, 64, 67, 0.15);\n",
              "      fill: #174EA6;\n",
              "    }\n",
              "\n",
              "    [theme=dark] .colab-df-convert {\n",
              "      background-color: #3B4455;\n",
              "      fill: #D2E3FC;\n",
              "    }\n",
              "\n",
              "    [theme=dark] .colab-df-convert:hover {\n",
              "      background-color: #434B5C;\n",
              "      box-shadow: 0px 1px 3px 1px rgba(0, 0, 0, 0.15);\n",
              "      filter: drop-shadow(0px 1px 2px rgba(0, 0, 0, 0.3));\n",
              "      fill: #FFFFFF;\n",
              "    }\n",
              "  </style>\n",
              "\n",
              "      <script>\n",
              "        const buttonEl =\n",
              "          document.querySelector('#df-3ede5f1e-b49c-4347-b047-d176866469a9 button.colab-df-convert');\n",
              "        buttonEl.style.display =\n",
              "          google.colab.kernel.accessAllowed ? 'block' : 'none';\n",
              "\n",
              "        async function convertToInteractive(key) {\n",
              "          const element = document.querySelector('#df-3ede5f1e-b49c-4347-b047-d176866469a9');\n",
              "          const dataTable =\n",
              "            await google.colab.kernel.invokeFunction('convertToInteractive',\n",
              "                                                     [key], {});\n",
              "          if (!dataTable) return;\n",
              "\n",
              "          const docLinkHtml = 'Like what you see? Visit the ' +\n",
              "            '<a target=\"_blank\" href=https://colab.research.google.com/notebooks/data_table.ipynb>data table notebook</a>'\n",
              "            + ' to learn more about interactive tables.';\n",
              "          element.innerHTML = '';\n",
              "          dataTable['output_type'] = 'display_data';\n",
              "          await google.colab.output.renderOutput(dataTable, element);\n",
              "          const docLink = document.createElement('div');\n",
              "          docLink.innerHTML = docLinkHtml;\n",
              "          element.appendChild(docLink);\n",
              "        }\n",
              "      </script>\n",
              "    </div>\n",
              "  </div>\n",
              "  "
            ]
          },
          "metadata": {},
          "execution_count": 1
        }
      ],
      "source": [
        "import pandas as pd\n",
        "import numpy as np\n",
        "from sklearn import metrics\n",
        "from sklearn.linear_model import LinearRegression\n",
        "from sklearn.model_selection import train_test_split\n",
        "import matplotlib.pyplot as plt\n",
        "#read data\n",
        "data=pd.read_csv('/content/google.csv')\n",
        "#data.tail(12)\n",
        "data.head(2)"
      ]
    },
    {
      "cell_type": "code",
      "source": [
        "#get the data raws and columns\n",
        "data.shape"
      ],
      "metadata": {
        "colab": {
          "base_uri": "https://localhost:8080/"
        },
        "id": "KUoMIg7e1jOp",
        "outputId": "598370f6-fd12-4f87-ccb6-6fddcba0ca7e"
      },
      "execution_count": null,
      "outputs": [
        {
          "output_type": "execute_result",
          "data": {
            "text/plain": [
              "(1278, 6)"
            ]
          },
          "metadata": {},
          "execution_count": 2
        }
      ]
    },
    {
      "cell_type": "code",
      "source": [
        "data2=data.reset_index()['Close']\n",
        "plt.plot(data2)"
      ],
      "metadata": {
        "colab": {
          "base_uri": "https://localhost:8080/",
          "height": 282
        },
        "id": "bplpJNVIhOTh",
        "outputId": "0a121b3a-829d-4b1b-8a9b-0a6f904e1186"
      },
      "execution_count": null,
      "outputs": [
        {
          "output_type": "execute_result",
          "data": {
            "text/plain": [
              "[<matplotlib.lines.Line2D at 0x7f23bd436690>]"
            ]
          },
          "metadata": {},
          "execution_count": 3
        },
        {
          "output_type": "display_data",
          "data": {
            "text/plain": [
              "<Figure size 432x288 with 1 Axes>"
            ],
            "image/png": "[encoded data removed]"
          },
          "metadata": {
            "needs_background": "light"
          }
        }
      ]
    },
    {
      "cell_type": "code",
      "source": [
        "x_independent=data[['Open','High','Low','Volume']].values\n",
        "y_dependent=data[['Close']].values"
      ],
      "metadata": {
        "id": "lQ9dDLHe1zDv"
      },
      "execution_count": null,
      "outputs": []
    },
    {
      "cell_type": "code",
      "source": [
        "#splid data\n",
        "x_train, x_test, y_train, y_test=train_test_split(x_independent,y_dependent, test_size=0.2, random_state=0)"
      ],
      "metadata": {
        "id": "_s8xQJxmBlok"
      },
      "execution_count": null,
      "outputs": []
    },
    {
      "cell_type": "code",
      "source": [
        "#define model\n",
        "model=LinearRegression()"
      ],
      "metadata": {
        "id": "ydKav6IoCg9V"
      },
      "execution_count": null,
      "outputs": []
    },
    {
      "cell_type": "code",
      "source": [
        "#train model\n",
        "model.fit(x_train, y_train)"
      ],
      "metadata": {
        "id": "Q3BfZb0WCi03",
        "colab": {
          "base_uri": "https://localhost:8080/"
        },
        "outputId": "99ebabdd-d3e9-4bc2-d122-fe15b70741c8"
      },
      "execution_count": null,
      "outputs": [
        {
          "output_type": "execute_result",
          "data": {
            "text/plain": [
              "LinearRegression()"
            ]
          },
          "metadata": {},
          "execution_count": 7
        }
      ]
    },
    {
      "cell_type": "code",
      "source": [
        "y_predicate=model.predict(x_test)\n",
        "print(y_predicate)"
      ],
      "metadata": {
        "id": "KF55c6EvCtbT",
        "colab": {
          "base_uri": "https://localhost:8080/"
        },
        "outputId": "87f7abf7-0c20-4287-e543-4d230334b0f0"
      },
      "execution_count": null,
      "outputs": [
        {
          "output_type": "stream",
          "name": "stdout",
          "text": [
            "[[ 635.2046209 ]\n",
            " [ 619.00969758]\n",
            " [ 705.50248698]\n",
            " [ 639.43507536]\n",
            " [ 613.40083033]\n",
            " [ 639.95722209]\n",
            " [ 616.29855759]\n",
            " [ 802.33565626]\n",
            " [ 681.97618267]\n",
            " [ 637.31980382]\n",
            " [ 642.71746124]\n",
            " [ 665.30314993]\n",
            " [ 804.57989162]\n",
            " [ 627.12649881]\n",
            " [ 738.68522613]\n",
            " [1273.20243905]\n",
            " [ 604.43499437]\n",
            " [ 742.38170257]\n",
            " [ 642.66991939]\n",
            " [ 679.10577247]\n",
            " [ 652.44779543]\n",
            " [ 625.71928974]\n",
            " [ 678.27510503]\n",
            " [ 794.44843356]\n",
            " [ 710.93224609]\n",
            " [ 686.95197672]\n",
            " [ 685.50124229]\n",
            " [ 660.24621889]\n",
            " [ 764.40969817]\n",
            " [ 708.3148784 ]\n",
            " [ 672.31694475]\n",
            " [ 648.00820289]\n",
            " [ 605.80863346]\n",
            " [ 807.39188994]\n",
            " [ 661.98583096]\n",
            " [ 620.7574317 ]\n",
            " [ 765.46431032]\n",
            " [ 748.24602187]\n",
            " [ 609.79232106]\n",
            " [ 739.50258547]\n",
            " [ 700.23056566]\n",
            " [ 679.48674122]\n",
            " [ 774.10271152]\n",
            " [ 708.55375513]\n",
            " [ 733.98200349]\n",
            " [ 758.36287632]\n",
            " [ 733.96962152]\n",
            " [ 656.80366128]\n",
            " [ 710.55294413]\n",
            " [ 723.0076325 ]\n",
            " [ 639.41294716]\n",
            " [ 738.78288833]\n",
            " [ 662.7825405 ]\n",
            " [ 656.83374175]\n",
            " [ 710.03184452]\n",
            " [ 917.78954844]\n",
            " [ 672.12933078]\n",
            " [ 721.520476  ]\n",
            " [ 727.04192836]\n",
            " [ 688.75547126]\n",
            " [ 861.43203142]\n",
            " [ 640.54066632]\n",
            " [ 716.16795919]\n",
            " [ 639.46196064]\n",
            " [ 692.20279056]\n",
            " [ 666.82700447]\n",
            " [ 854.45564711]\n",
            " [ 632.57083165]\n",
            " [ 716.02895242]\n",
            " [ 621.77781555]\n",
            " [ 795.17418717]\n",
            " [ 646.93225663]\n",
            " [ 679.90501856]\n",
            " [ 612.08833338]\n",
            " [ 678.38790841]\n",
            " [ 723.71930262]\n",
            " [ 673.99221418]\n",
            " [ 637.48248662]\n",
            " [ 762.46825806]\n",
            " [ 648.52855601]\n",
            " [ 773.72087645]\n",
            " [ 724.9695392 ]\n",
            " [ 627.33349333]\n",
            " [ 677.66066764]\n",
            " [ 647.37856045]\n",
            " [ 707.16245167]\n",
            " [ 693.16826454]\n",
            " [ 735.73501976]\n",
            " [ 704.01640856]\n",
            " [ 697.82825984]\n",
            " [ 691.1500899 ]\n",
            " [ 729.24599269]\n",
            " [ 644.08466722]\n",
            " [ 631.58319409]\n",
            " [ 743.24031721]\n",
            " [ 729.84067493]\n",
            " [ 767.00264665]\n",
            " [ 869.31727058]\n",
            " [ 616.09206305]\n",
            " [ 824.40611259]\n",
            " [ 797.78995726]\n",
            " [ 665.22397633]\n",
            " [ 829.8171883 ]\n",
            " [ 688.66208456]\n",
            " [ 764.7730961 ]\n",
            " [ 714.76316078]\n",
            " [ 683.665194  ]\n",
            " [ 806.51750174]\n",
            " [ 677.83791857]\n",
            " [ 711.18553802]\n",
            " [ 708.55770607]\n",
            " [ 673.74171948]\n",
            " [ 828.57157331]\n",
            " [ 710.15958758]\n",
            " [ 810.84274835]\n",
            " [ 724.66042391]\n",
            " [ 844.7469703 ]\n",
            " [ 671.51212415]\n",
            " [ 717.05255949]\n",
            " [ 708.51067141]\n",
            " [ 708.15138287]\n",
            " [ 648.79195786]\n",
            " [ 744.92886027]\n",
            " [ 661.43759247]\n",
            " [ 795.07657848]\n",
            " [ 709.73838457]\n",
            " [ 605.61109796]\n",
            " [ 665.49434753]\n",
            " [ 669.59279548]\n",
            " [ 700.20259069]\n",
            " [ 757.33295437]\n",
            " [ 782.88041815]\n",
            " [ 680.62921659]\n",
            " [ 960.07416847]\n",
            " [ 749.17077543]\n",
            " [ 766.79081868]\n",
            " [ 662.92056341]\n",
            " [ 639.36441608]\n",
            " [ 707.21289134]\n",
            " [ 829.69925246]\n",
            " [ 735.46204095]\n",
            " [ 703.33120071]\n",
            " [ 693.74382262]\n",
            " [ 622.54328729]\n",
            " [ 728.64348524]\n",
            " [ 707.41735853]\n",
            " [ 572.0837753 ]\n",
            " [ 754.34156869]\n",
            " [ 664.2695444 ]\n",
            " [ 620.67719673]\n",
            " [ 671.0773514 ]\n",
            " [ 642.75917803]\n",
            " [ 688.98901452]\n",
            " [ 726.11710082]\n",
            " [ 794.40049958]\n",
            " [ 753.51099384]\n",
            " [ 747.96381704]\n",
            " [ 642.97318675]\n",
            " [ 630.19683791]\n",
            " [ 829.39577491]\n",
            " [ 694.59250084]\n",
            " [ 678.52007893]\n",
            " [ 766.61266988]\n",
            " [ 680.58700702]\n",
            " [ 770.52080837]\n",
            " [ 789.85230859]\n",
            " [ 768.57376145]\n",
            " [ 660.29262209]\n",
            " [ 727.90111128]\n",
            " [ 655.52412841]\n",
            " [ 623.38629757]\n",
            " [ 779.67547901]\n",
            " [ 799.85452328]\n",
            " [ 687.38026134]\n",
            " [ 614.95006422]\n",
            " [ 659.74206417]\n",
            " [ 669.14162208]\n",
            " [ 681.42617303]\n",
            " [ 666.75825582]\n",
            " [ 708.12219419]\n",
            " [ 763.10020163]\n",
            " [ 682.62481288]\n",
            " [ 709.92611333]\n",
            " [ 698.8072014 ]\n",
            " [ 722.22658333]\n",
            " [ 764.39458082]\n",
            " [ 663.74478034]\n",
            " [ 675.25920074]\n",
            " [ 688.37556685]\n",
            " [ 755.75144546]\n",
            " [ 735.05086757]\n",
            " [ 697.26986227]\n",
            " [ 711.42883273]\n",
            " [ 656.29852986]\n",
            " [ 572.27522856]\n",
            " [ 825.83593611]\n",
            " [ 755.62903242]\n",
            " [ 681.31492886]\n",
            " [ 802.73487657]\n",
            " [ 677.81532382]\n",
            " [ 728.46578271]\n",
            " [ 653.59961462]\n",
            " [ 703.22080576]\n",
            " [ 792.51502823]\n",
            " [ 522.40899027]\n",
            " [ 636.70963995]\n",
            " [ 684.49218578]\n",
            " [ 697.92366832]\n",
            " [ 788.93391622]\n",
            " [ 678.40552964]\n",
            " [ 692.66469062]\n",
            " [ 634.03886514]\n",
            " [ 668.1763303 ]\n",
            " [ 733.17665923]\n",
            " [ 673.48733096]\n",
            " [ 662.1152288 ]\n",
            " [ 762.47058522]\n",
            " [ 487.59678883]\n",
            " [ 702.06237055]\n",
            " [ 717.2314711 ]\n",
            " [ 672.96861976]\n",
            " [ 747.11073576]\n",
            " [ 683.56135124]\n",
            " [ 753.17245111]\n",
            " [ 567.36700698]\n",
            " [ 705.07269764]\n",
            " [ 716.68531682]\n",
            " [ 694.58893933]\n",
            " [ 662.52184988]\n",
            " [ 676.91284555]\n",
            " [ 596.08385334]\n",
            " [ 770.4902738 ]\n",
            " [ 817.55251296]\n",
            " [ 665.69116541]\n",
            " [ 748.06305464]\n",
            " [ 832.66885765]\n",
            " [ 623.45795084]\n",
            " [ 686.95142127]\n",
            " [ 729.32000597]\n",
            " [ 774.53586473]\n",
            " [ 782.8659515 ]\n",
            " [ 606.04696819]\n",
            " [ 677.34154179]\n",
            " [ 701.2884712 ]\n",
            " [ 759.37829396]\n",
            " [ 658.39123532]\n",
            " [ 672.98136151]\n",
            " [ 631.80531123]\n",
            " [ 804.80647364]\n",
            " [ 702.24740637]\n",
            " [ 682.5217716 ]\n",
            " [ 658.0277358 ]\n",
            " [ 760.35904949]\n",
            " [ 654.94305183]\n",
            " [ 693.71019206]\n",
            " [ 675.53438867]]\n"
          ]
        }
      ]
    },
    {
      "cell_type": "code",
      "source": [
        "print(len(x_test), len(y_test))"
      ],
      "metadata": {
        "id": "hHDJjhnrCxjM",
        "colab": {
          "base_uri": "https://localhost:8080/"
        },
        "outputId": "a1673ff7-ed82-4260-9cab-bb3c8384a8f9"
      },
      "execution_count": null,
      "outputs": [
        {
          "output_type": "stream",
          "name": "stdout",
          "text": [
            "256 256\n"
          ]
        }
      ]
    },
    {
      "cell_type": "code",
      "source": [
        "#model evaluation accuracy\n",
        "from sklearn.metrics import r2_score\n",
        "r2_score(y_test,y_predicate)"
      ],
      "metadata": {
        "id": "rSSpclPfC03Y",
        "colab": {
          "base_uri": "https://localhost:8080/"
        },
        "outputId": "41eded16-4af1-49b1-a2db-3f7d0b5d82ca"
      },
      "execution_count": null,
      "outputs": [
        {
          "output_type": "execute_result",
          "data": {
            "text/plain": [
              "0.17402892066194708"
            ]
          },
          "metadata": {},
          "execution_count": 10
        }
      ]
    },
    {
      "cell_type": "code",
      "source": [
        "#differences\n",
        "dataFrame= pd.DataFrame({'actual':y_test.flatten(), 'predicted':y_predicate.flatten(), 'Differences':y_test.flatten()-y_predicate.flatten()})\n",
        "print(dataFrame)"
      ],
      "metadata": {
        "id": "GwXrLT-IC3ca",
        "colab": {
          "base_uri": "https://localhost:8080/"
        },
        "outputId": "63af0019-447f-44cd-9ece-713f413f57bd"
      },
      "execution_count": null,
      "outputs": [
        {
          "output_type": "stream",
          "name": "stdout",
          "text": [
            "      actual   predicted  Differences\n",
            "0     606.33  635.204621   -28.874621\n",
            "1     533.91  619.009698   -85.099698\n",
            "2    1007.82  705.502487   302.317513\n",
            "3     571.58  639.435075   -67.855075\n",
            "4     605.48  613.400830    -7.920830\n",
            "..       ...         ...          ...\n",
            "251   645.25  658.027736   -12.777736\n",
            "252   782.52  760.359049    22.160951\n",
            "253   594.97  654.943052   -59.973052\n",
            "254   604.25  693.710192   -89.460192\n",
            "255  1019.95  675.534389   344.415611\n",
            "\n",
            "[256 rows x 3 columns]\n"
          ]
        }
      ]
    },
    {
      "cell_type": "code",
      "source": [
        "#error calculation\n",
        "print(\"root mean squared error :\",np.sqrt(metrics.mean_squared_error(y_test,y_predicate)))\n",
        "print(\"mean squared error :\", metrics.mean_squared_error(y_test,y_predicate))\n",
        "print(\"mean absolute :\", metrics.mean_absolute_error(y_test,y_predicate))"
      ],
      "metadata": {
        "id": "F2818LkpC5xq",
        "colab": {
          "base_uri": "https://localhost:8080/"
        },
        "outputId": "5b1032cc-5ac1-4f86-f3d0-d266dbf8f830"
      },
      "execution_count": null,
      "outputs": [
        {
          "output_type": "stream",
          "name": "stdout",
          "text": [
            "root mean squared error : 152.83227386878832\n",
            "mean squared error : 23357.70393590432\n",
            "mean absolute : 113.25460542044203\n"
          ]
        }
      ]
    },
    {
      "cell_type": "code",
      "source": [
        "#visualization for evaluation\n",
        "dataFram2= pd.DataFrame({'actual':y_test.flatten(), 'predicted':y_predicate.flatten()})\n",
        "\n",
        "visual= dataFram2.head(20)\n",
        "\n",
        "visual.plot(kind='bar',figsize=(12, 4))"
      ],
      "metadata": {
        "id": "pgNRqfaLC7jF",
        "colab": {
          "base_uri": "https://localhost:8080/",
          "height": 285
        },
        "outputId": "89e79cb9-8b8a-46a9-c8cc-99b751c4f442"
      },
      "execution_count": null,
      "outputs": [
        {
          "output_type": "execute_result",
          "data": {
            "text/plain": [
              "<matplotlib.axes._subplots.AxesSubplot at 0x7f23bae32dd0>"
            ]
          },
          "metadata": {},
          "execution_count": 14
        },
        {
          "output_type": "display_data",
          "data": {
            "text/plain": [
              "<Figure size 864x288 with 1 Axes>"
            ],
            "image/png": "[encoded data removed]"
          },
          "metadata": {
            "needs_background": "light"
          }
        }
      ]
    },
    {
      "cell_type": "code",
      "source": [],
      "metadata": {
        "id": "hVUoCivchVnp"
      },
      "execution_count": null,
      "outputs": []
    }
  ]
}