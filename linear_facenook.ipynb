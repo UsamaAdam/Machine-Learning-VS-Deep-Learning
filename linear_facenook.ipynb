{
  "nbformat": 4,
  "nbformat_minor": 0,
  "metadata": {
    "colab": {
      "provenance": []
    },
    "kernelspec": {
      "name": "python3",
      "display_name": "Python 3"
    },
    "language_info": {
      "name": "python"
    }
  },
  "cells": [
    {
      "cell_type": "markdown",
      "source": [
        "Linear Regression Approach for Stock Market Prediction (Facebook) - Stock Market History\n",
        "\n",
        "\n",
        "---\n",
        "Osamah Adam Mohammed\n",
        "\n",
        "\n",
        "Sep-5-2023\n",
        "\n",
        "\n",
        "onyx-snow.com"
      ],
      "metadata": {
        "id": "gUp5RI3JX-mX"
      }
    },
    {
      "cell_type": "markdown",
      "source": [
        "Note: data is available from kaggle\n",
        "\n",
        "https://www.kaggle.com/datasets/kalilurrahman/facebook-stock-data-live-and-latest"
      ],
      "metadata": {
        "id": "2Rp80P0BYDvD"
      }
    },
    {
      "cell_type": "code",
      "execution_count": null,
      "metadata": {
        "colab": {
          "base_uri": "https://localhost:8080/",
          "height": 112
        },
        "id": "8kgbCAEO0R-9",
        "outputId": "124309eb-58db-4814-9e5e-f6a0f48f0faf"
      },
      "outputs": [
        {
          "output_type": "execute_result",
          "data": {
            "text/plain": [
              "         Date       Open   High   Low      Close     Volume  Dividends  \\\n",
              "0  2012-05-18  42.049999  45.00  38.0  38.230000  573576400          0   \n",
              "1  2012-05-21  36.529999  36.66  33.0  34.029999  168192700          0   \n",
              "\n",
              "   Stock Splits  \n",
              "0             0  \n",
              "1             0  "
            ],
            "text/html": [
              "\n",
              "  <div id=\"df-dd8f3c24-00c3-496c-8ce2-7981aae5e25d\">\n",
              "    <div class=\"colab-df-container\">\n",
              "      <div>\n",
              "<style scoped>\n",
              "    .dataframe tbody tr th:only-of-type {\n",
              "        vertical-align: middle;\n",
              "    }\n",
              "\n",
              "    .dataframe tbody tr th {\n",
              "        vertical-align: top;\n",
              "    }\n",
              "\n",
              "    .dataframe thead th {\n",
              "        text-align: right;\n",
              "    }\n",
              "</style>\n",
              "<table border=\"1\" class=\"dataframe\">\n",
              "  <thead>\n",
              "    <tr style=\"text-align: right;\">\n",
              "      <th></th>\n",
              "      <th>Date</th>\n",
              "      <th>Open</th>\n",
              "      <th>High</th>\n",
              "      <th>Low</th>\n",
              "      <th>Close</th>\n",
              "      <th>Volume</th>\n",
              "      <th>Dividends</th>\n",
              "      <th>Stock Splits</th>\n",
              "    </tr>\n",
              "  </thead>\n",
              "  <tbody>\n",
              "    <tr>\n",
              "      <th>0</th>\n",
              "      <td>2012-05-18</td>\n",
              "      <td>42.049999</td>\n",
              "      <td>45.00</td>\n",
              "      <td>38.0</td>\n",
              "      <td>38.230000</td>\n",
              "      <td>573576400</td>\n",
              "      <td>0</td>\n",
              "      <td>0</td>\n",
              "    </tr>\n",
              "    <tr>\n",
              "      <th>1</th>\n",
              "      <td>2012-05-21</td>\n",
              "      <td>36.529999</td>\n",
              "      <td>36.66</td>\n",
              "      <td>33.0</td>\n",
              "      <td>34.029999</td>\n",
              "      <td>168192700</td>\n",
              "      <td>0</td>\n",
              "      <td>0</td>\n",
              "    </tr>\n",
              "  </tbody>\n",
              "</table>\n",
              "</div>\n",
              "      <button class=\"colab-df-convert\" onclick=\"convertToInteractive('df-dd8f3c24-00c3-496c-8ce2-7981aae5e25d')\"\n",
              "              title=\"Convert this dataframe to an interactive table.\"\n",
              "              style=\"display:none;\">\n",
              "        \n",
              "  <svg xmlns=\"http://www.w3.org/2000/svg\" height=\"24px\"viewBox=\"0 0 24 24\"\n",
              "       width=\"24px\">\n",
              "    <path d=\"M0 0h24v24H0V0z\" fill=\"none\"/>\n",
              "    <path d=\"M18.56 5.44l.94 2.06.94-2.06 2.06-.94-2.06-.94-.94-2.06-.94 2.06-2.06.94zm-11 1L8.5 8.5l.94-2.06 2.06-.94-2.06-.94L8.5 2.5l-.94 2.06-2.06.94zm10 10l.94 2.06.94-2.06 2.06-.94-2.06-.94-.94-2.06-.94 2.06-2.06.94z\"/><path d=\"M17.41 7.96l-1.37-1.37c-.4-.4-.92-.59-1.43-.59-.52 0-1.04.2-1.43.59L10.3 9.45l-7.72 7.72c-.78.78-.78 2.05 0 2.83L4 21.41c.39.39.9.59 1.41.59.51 0 1.02-.2 1.41-.59l7.78-7.78 2.81-2.81c.8-.78.8-2.07 0-2.86zM5.41 20L4 18.59l7.72-7.72 1.47 1.35L5.41 20z\"/>\n",
              "  </svg>\n",
              "      </button>\n",
              "      \n",
              "  <style>\n",
              "    .colab-df-container {\n",
              "      display:flex;\n",
              "      flex-wrap:wrap;\n",
              "      gap: 12px;\n",
              "    }\n",
              "\n",
              "    .colab-df-convert {\n",
              "      background-color: #E8F0FE;\n",
              "      border: none;\n",
              "      border-radius: 50%;\n",
              "      cursor: pointer;\n",
              "      display: none;\n",
              "      fill: #1967D2;\n",
              "      height: 32px;\n",
              "      padding: 0 0 0 0;\n",
              "      width: 32px;\n",
              "    }\n",
              "\n",
              "    .colab-df-convert:hover {\n",
              "      background-color: #E2EBFA;\n",
              "      box-shadow: 0px 1px 2px rgba(60, 64, 67, 0.3), 0px 1px 3px 1px rgba(60, 64, 67, 0.15);\n",
              "      fill: #174EA6;\n",
              "    }\n",
              "\n",
              "    [theme=dark] .colab-df-convert {\n",
              "      background-color: #3B4455;\n",
              "      fill: #D2E3FC;\n",
              "    }\n",
              "\n",
              "    [theme=dark] .colab-df-convert:hover {\n",
              "      background-color: #434B5C;\n",
              "      box-shadow: 0px 1px 3px 1px rgba(0, 0, 0, 0.15);\n",
              "      filter: drop-shadow(0px 1px 2px rgba(0, 0, 0, 0.3));\n",
              "      fill: #FFFFFF;\n",
              "    }\n",
              "  </style>\n",
              "\n",
              "      <script>\n",
              "        const buttonEl =\n",
              "          document.querySelector('#df-dd8f3c24-00c3-496c-8ce2-7981aae5e25d button.colab-df-convert');\n",
              "        buttonEl.style.display =\n",
              "          google.colab.kernel.accessAllowed ? 'block' : 'none';\n",
              "\n",
              "        async function convertToInteractive(key) {\n",
              "          const element = document.querySelector('#df-dd8f3c24-00c3-496c-8ce2-7981aae5e25d');\n",
              "          const dataTable =\n",
              "            await google.colab.kernel.invokeFunction('convertToInteractive',\n",
              "                                                     [key], {});\n",
              "          if (!dataTable) return;\n",
              "\n",
              "          const docLinkHtml = 'Like what you see? Visit the ' +\n",
              "            '<a target=\"_blank\" href=https://colab.research.google.com/notebooks/data_table.ipynb>data table notebook</a>'\n",
              "            + ' to learn more about interactive tables.';\n",
              "          element.innerHTML = '';\n",
              "          dataTable['output_type'] = 'display_data';\n",
              "          await google.colab.output.renderOutput(dataTable, element);\n",
              "          const docLink = document.createElement('div');\n",
              "          docLink.innerHTML = docLinkHtml;\n",
              "          element.appendChild(docLink);\n",
              "        }\n",
              "      </script>\n",
              "    </div>\n",
              "  </div>\n",
              "  "
            ]
          },
          "metadata": {},
          "execution_count": 22
        }
      ],
      "source": [
        "import pandas as pd\n",
        "import numpy as np\n",
        "from sklearn import metrics\n",
        "from sklearn.linear_model import LinearRegression\n",
        "from sklearn.model_selection import train_test_split\n",
        "import matplotlib.pyplot as plt\n",
        "data3=pd.read_csv('/content/facebook.csv')\n",
        "data3.head(2)"
      ]
    },
    {
      "cell_type": "code",
      "source": [
        "#get the data raws and columns\n",
        "data3.shape"
      ],
      "metadata": {
        "colab": {
          "base_uri": "https://localhost:8080/"
        },
        "id": "AdzkCZPQ1hSH",
        "outputId": "b2cae224-df5f-4e00-b341-e2ac8c7babb1"
      },
      "execution_count": null,
      "outputs": [
        {
          "output_type": "execute_result",
          "data": {
            "text/plain": [
              "(2359, 8)"
            ]
          },
          "metadata": {},
          "execution_count": 23
        }
      ]
    },
    {
      "cell_type": "code",
      "source": [
        "#drop columns\n",
        "data2=data3.drop('Dividends',1)"
      ],
      "metadata": {
        "colab": {
          "base_uri": "https://localhost:8080/"
        },
        "id": "mH6J4Twl1pum",
        "outputId": "2e9b49fe-fcca-4889-f329-7d8a0f90c87c"
      },
      "execution_count": null,
      "outputs": [
        {
          "output_type": "stream",
          "name": "stderr",
          "text": [
            "/usr/local/lib/python3.7/dist-packages/ipykernel_launcher.py:2: FutureWarning: In a future version of pandas all arguments of DataFrame.drop except for the argument 'labels' will be keyword-only\n",
            "  \n"
          ]
        }
      ]
    },
    {
      "cell_type": "code",
      "source": [
        "data=data2.drop('Stock Splits',1)"
      ],
      "metadata": {
        "colab": {
          "base_uri": "https://localhost:8080/"
        },
        "id": "cYD9BZd-1tZS",
        "outputId": "15029285-be5d-47f7-e23c-9ff910ba122c"
      },
      "execution_count": null,
      "outputs": [
        {
          "output_type": "stream",
          "name": "stderr",
          "text": [
            "/usr/local/lib/python3.7/dist-packages/ipykernel_launcher.py:1: FutureWarning: In a future version of pandas all arguments of DataFrame.drop except for the argument 'labels' will be keyword-only\n",
            "  \"\"\"Entry point for launching an IPython kernel.\n"
          ]
        }
      ]
    },
    {
      "cell_type": "code",
      "source": [
        "data2=data.reset_index()['Close']\n",
        "plt.plot(data2)"
      ],
      "metadata": {
        "colab": {
          "base_uri": "https://localhost:8080/",
          "height": 286
        },
        "id": "uX1s-glVg3h9",
        "outputId": "4d4fa975-f5f2-4423-89f9-664d715f36cd"
      },
      "execution_count": null,
      "outputs": [
        {
          "output_type": "execute_result",
          "data": {
            "text/plain": [
              "[<matplotlib.lines.Line2D at 0x7f75a326c850>]"
            ]
          },
          "metadata": {},
          "execution_count": 42
        },
        {
          "output_type": "display_data",
          "data": {
            "text/plain": [
              "<Figure size 432x288 with 1 Axes>"
            ],
            "image/png": "[encoded data removed]"
          },
          "metadata": {
            "needs_background": "light"
          }
        }
      ]
    },
    {
      "cell_type": "code",
      "source": [
        "x_independent=data[['Open','High','Low','Volume']].values\n",
        "y_dependent=data[['Close']].values"
      ],
      "metadata": {
        "id": "TFXhyFY21urC"
      },
      "execution_count": null,
      "outputs": []
    },
    {
      "cell_type": "code",
      "source": [
        "#splid data\n",
        "x_train, x_test, y_train, y_test=train_test_split(x_independent,y_dependent, test_size=0.2, random_state=0)"
      ],
      "metadata": {
        "id": "pvFVBN8LBj3q"
      },
      "execution_count": null,
      "outputs": []
    },
    {
      "cell_type": "code",
      "source": [
        "print(x_train.shape)"
      ],
      "metadata": {
        "colab": {
          "base_uri": "https://localhost:8080/"
        },
        "id": "yS8NMwlxqrKl",
        "outputId": "a34a6798-8d8a-4cf0-aa5e-bfaccdc5194b"
      },
      "execution_count": null,
      "outputs": [
        {
          "output_type": "stream",
          "name": "stdout",
          "text": [
            "(1887, 4)\n"
          ]
        }
      ]
    },
    {
      "cell_type": "code",
      "source": [
        "#define model\n",
        "model=LinearRegression()"
      ],
      "metadata": {
        "id": "MbyEu0vCCfG4"
      },
      "execution_count": null,
      "outputs": []
    },
    {
      "cell_type": "code",
      "source": [
        "#train model\n",
        "model.fit(x_train, y_train)"
      ],
      "metadata": {
        "colab": {
          "base_uri": "https://localhost:8080/"
        },
        "id": "EzNInI8XCkNL",
        "outputId": "5b901965-f430-476e-a5e1-b27f9b90a03e"
      },
      "execution_count": null,
      "outputs": [
        {
          "output_type": "execute_result",
          "data": {
            "text/plain": [
              "LinearRegression()"
            ]
          },
          "metadata": {},
          "execution_count": 29
        }
      ]
    },
    {
      "cell_type": "code",
      "source": [
        "y_predictior=model.predict(x_test)\n",
        "print(y_predictior)"
      ],
      "metadata": {
        "colab": {
          "base_uri": "https://localhost:8080/"
        },
        "id": "xiYRMA-ECuwe",
        "outputId": "b4440e70-6aa9-4a19-fcf9-6fc1f90910ef"
      },
      "execution_count": null,
      "outputs": [
        {
          "output_type": "stream",
          "name": "stdout",
          "text": [
            "[[ 54.80444614]\n",
            " [208.87644019]\n",
            " [178.14053434]\n",
            " [ 75.94086705]\n",
            " [ 26.26740662]\n",
            " [144.45198286]\n",
            " [144.75885121]\n",
            " [176.0052991 ]\n",
            " [171.78134794]\n",
            " [130.29336691]\n",
            " [ 26.28114023]\n",
            " [ 64.54471824]\n",
            " [ 28.00452378]\n",
            " [147.42134325]\n",
            " [342.4184697 ]\n",
            " [ 71.64842351]\n",
            " [178.73894498]\n",
            " [ 76.61339557]\n",
            " [ 44.64515559]\n",
            " [189.07080198]\n",
            " [ 74.1388168 ]\n",
            " [178.86188195]\n",
            " [ 28.14279604]\n",
            " [ 76.22690699]\n",
            " [186.30808786]\n",
            " [308.56692576]\n",
            " [ 69.10677677]\n",
            " [151.953219  ]\n",
            " [105.10576013]\n",
            " [179.88528318]\n",
            " [ 61.66052457]\n",
            " [313.73100448]\n",
            " [ 76.81864071]\n",
            " [110.00012073]\n",
            " [ 26.45321554]\n",
            " [172.49679381]\n",
            " [ 19.32000947]\n",
            " [304.57379264]\n",
            " [ 77.32711041]\n",
            " [ 21.06139993]\n",
            " [159.94725106]\n",
            " [ 59.81797137]\n",
            " [ 31.66092322]\n",
            " [ 75.62569356]\n",
            " [357.21734473]\n",
            " [105.84203381]\n",
            " [274.41650286]\n",
            " [148.27102396]\n",
            " [209.73888439]\n",
            " [ 75.64419435]\n",
            " [171.03019075]\n",
            " [118.07905865]\n",
            " [ 46.22249518]\n",
            " [133.86391476]\n",
            " [187.65683821]\n",
            " [115.70995958]\n",
            " [363.0701675 ]\n",
            " [155.29681705]\n",
            " [ 79.14713385]\n",
            " [ 27.50598002]\n",
            " [119.42619023]\n",
            " [ 57.52347355]\n",
            " [ 48.55694172]\n",
            " [250.19974933]\n",
            " [219.76318178]\n",
            " [ 77.69614259]\n",
            " [111.55722754]\n",
            " [123.68306361]\n",
            " [177.68724389]\n",
            " [167.06765686]\n",
            " [266.87086203]\n",
            " [179.7537742 ]\n",
            " [ 77.61442511]\n",
            " [370.35579446]\n",
            " [ 78.47603151]\n",
            " [ 27.4443478 ]\n",
            " [ 82.50071902]\n",
            " [178.93700584]\n",
            " [192.72778603]\n",
            " [156.83776757]\n",
            " [174.04319868]\n",
            " [161.67949738]\n",
            " [ 87.64924893]\n",
            " [166.86796598]\n",
            " [229.76959365]\n",
            " [132.86882792]\n",
            " [ 66.78937467]\n",
            " [ 80.36706843]\n",
            " [171.59790579]\n",
            " [ 75.396489  ]\n",
            " [272.22904863]\n",
            " [352.24550538]\n",
            " [165.44928882]\n",
            " [194.05234163]\n",
            " [103.57187864]\n",
            " [117.99015782]\n",
            " [ 19.2870958 ]\n",
            " [ 80.93472741]\n",
            " [323.94146809]\n",
            " [184.35774025]\n",
            " [ 97.57822698]\n",
            " [ 27.37645031]\n",
            " [ 31.44236101]\n",
            " [ 21.37093037]\n",
            " [ 40.17674789]\n",
            " [ 24.30303823]\n",
            " [303.70396107]\n",
            " [249.9906786 ]\n",
            " [ 46.9975855 ]\n",
            " [179.3255938 ]\n",
            " [ 92.15999834]\n",
            " [ 20.56147945]\n",
            " [ 74.83020103]\n",
            " [ 28.30311164]\n",
            " [ 68.0242475 ]\n",
            " [105.21993926]\n",
            " [ 29.02146338]\n",
            " [ 66.83388381]\n",
            " [111.03347804]\n",
            " [148.23038055]\n",
            " [176.73855685]\n",
            " [175.70803002]\n",
            " [ 53.781152  ]\n",
            " [ 64.99251844]\n",
            " [183.90622928]\n",
            " [186.1682334 ]\n",
            " [106.85117966]\n",
            " [150.94584603]\n",
            " [129.99290154]\n",
            " [214.08477512]\n",
            " [180.17200771]\n",
            " [235.66791966]\n",
            " [194.38193838]\n",
            " [211.19404967]\n",
            " [152.95521242]\n",
            " [ 21.95551853]\n",
            " [163.82951475]\n",
            " [150.60601494]\n",
            " [ 27.03276158]\n",
            " [169.90984359]\n",
            " [129.04442434]\n",
            " [241.22551378]\n",
            " [ 82.2315953 ]\n",
            " [109.80279052]\n",
            " [ 83.14117554]\n",
            " [ 38.97944166]\n",
            " [250.66417533]\n",
            " [300.48042232]\n",
            " [ 79.62531061]\n",
            " [142.31344513]\n",
            " [113.5751764 ]\n",
            " [157.86579068]\n",
            " [160.47308557]\n",
            " [ 74.15843721]\n",
            " [124.02288995]\n",
            " [ 90.41894735]\n",
            " [194.73691297]\n",
            " [181.46242211]\n",
            " [118.05724702]\n",
            " [213.6614337 ]\n",
            " [ 77.812663  ]\n",
            " [274.95299456]\n",
            " [173.94294407]\n",
            " [ 74.2756913 ]\n",
            " [ 44.96122318]\n",
            " [379.16880398]\n",
            " [151.14669542]\n",
            " [ 28.83581531]\n",
            " [185.80135938]\n",
            " [172.25816649]\n",
            " [191.31778305]\n",
            " [116.88962854]\n",
            " [153.91551296]\n",
            " [177.60123912]\n",
            " [184.44421603]\n",
            " [164.07892148]\n",
            " [178.85026679]\n",
            " [ 75.84028202]\n",
            " [ 27.72002366]\n",
            " [293.67844642]\n",
            " [317.59286445]\n",
            " [165.22537275]\n",
            " [121.68128771]\n",
            " [351.79760058]\n",
            " [ 77.04396147]\n",
            " [231.43759609]\n",
            " [185.37363022]\n",
            " [149.6453884 ]\n",
            " [137.32845438]\n",
            " [173.40127725]\n",
            " [140.05662721]\n",
            " [ 25.90409936]\n",
            " [ 75.24546661]\n",
            " [257.72723838]\n",
            " [146.24876363]\n",
            " [341.60344903]\n",
            " [ 69.89554903]\n",
            " [ 90.37896169]\n",
            " [179.61065671]\n",
            " [247.95151372]\n",
            " [120.22072237]\n",
            " [ 70.62612071]\n",
            " [ 32.4473914 ]\n",
            " [145.54824238]\n",
            " [170.42882708]\n",
            " [138.17361265]\n",
            " [177.8503446 ]\n",
            " [ 84.30988239]\n",
            " [167.53838852]\n",
            " [300.74032074]\n",
            " [108.79809781]\n",
            " [ 54.00386125]\n",
            " [ 27.84173605]\n",
            " [ 66.57862604]\n",
            " [149.46329096]\n",
            " [ 79.03814491]\n",
            " [332.23072705]\n",
            " [ 58.61852223]\n",
            " [185.67681847]\n",
            " [353.3937912 ]\n",
            " [111.29015478]\n",
            " [131.99680008]\n",
            " [120.8753537 ]\n",
            " [ 40.61413396]\n",
            " [201.39787911]\n",
            " [171.54692301]\n",
            " [ 58.959411  ]\n",
            " [172.13010775]\n",
            " [163.50729829]\n",
            " [252.08886092]\n",
            " [117.16305899]\n",
            " [170.89291386]\n",
            " [242.12030042]\n",
            " [ 18.97300475]\n",
            " [ 95.27507846]\n",
            " [139.98574661]\n",
            " [103.01365371]\n",
            " [175.60514346]\n",
            " [ 33.8289785 ]\n",
            " [128.67356755]\n",
            " [178.32620368]\n",
            " [ 19.17957095]\n",
            " [158.22579612]\n",
            " [ 27.17902103]\n",
            " [298.57864513]\n",
            " [112.98396883]\n",
            " [260.66117002]\n",
            " [200.48699164]\n",
            " [ 92.90887096]\n",
            " [239.94509341]\n",
            " [145.79896602]\n",
            " [ 81.19218742]\n",
            " [ 25.30693763]\n",
            " [139.54836227]\n",
            " [ 94.2126493 ]\n",
            " [104.98778238]\n",
            " [ 67.64103086]\n",
            " [ 41.50185047]\n",
            " [179.63964106]\n",
            " [119.06126024]\n",
            " [144.94255616]\n",
            " [ 59.58548729]\n",
            " [146.723172  ]\n",
            " [317.5848222 ]\n",
            " [186.02347238]\n",
            " [ 72.52119632]\n",
            " [151.40472132]\n",
            " [ 67.92665138]\n",
            " [ 94.71500424]\n",
            " [ 67.30693667]\n",
            " [ 88.33759708]\n",
            " [ 81.74878841]\n",
            " [ 63.28227902]\n",
            " [ 24.46053006]\n",
            " [ 82.99728222]\n",
            " [170.62577751]\n",
            " [ 83.0979827 ]\n",
            " [ 73.64303594]\n",
            " [128.24327415]\n",
            " [117.19005047]\n",
            " [ 38.18888574]\n",
            " [259.88362687]\n",
            " [ 21.23401646]\n",
            " [ 23.46666093]\n",
            " [ 26.85886816]\n",
            " [ 68.21179226]\n",
            " [126.3158718 ]\n",
            " [360.82215987]\n",
            " [ 86.6776478 ]\n",
            " [ 82.35914361]\n",
            " [170.1345029 ]\n",
            " [200.90563683]\n",
            " [123.8829972 ]\n",
            " [153.3665947 ]\n",
            " [197.76893753]\n",
            " [ 27.59193517]\n",
            " [ 55.62973521]\n",
            " [ 79.93302824]\n",
            " [181.34576845]\n",
            " [ 82.49317603]\n",
            " [274.65023387]\n",
            " [ 38.06712075]\n",
            " [168.15773568]\n",
            " [ 75.3732487 ]\n",
            " [ 25.6902084 ]\n",
            " [ 78.06995917]\n",
            " [135.35775134]\n",
            " [207.38002936]\n",
            " [187.35280948]\n",
            " [198.4414201 ]\n",
            " [ 73.59221893]\n",
            " [ 47.13744233]\n",
            " [ 26.32183245]\n",
            " [119.02302327]\n",
            " [ 78.42388408]\n",
            " [187.41606644]\n",
            " [191.73478634]\n",
            " [106.57403186]\n",
            " [190.77053265]\n",
            " [ 76.95414325]\n",
            " [152.0512919 ]\n",
            " [173.55132117]\n",
            " [285.16631199]\n",
            " [271.25074572]\n",
            " [270.42357461]\n",
            " [183.62326666]\n",
            " [146.90688205]\n",
            " [ 56.81695551]\n",
            " [141.37780817]\n",
            " [181.55246036]\n",
            " [119.13384597]\n",
            " [179.52677731]\n",
            " [ 27.01218401]\n",
            " [276.91179448]\n",
            " [ 57.55926336]\n",
            " [158.3532377 ]\n",
            " [162.68831948]\n",
            " [192.03769281]\n",
            " [312.03125948]\n",
            " [184.25355134]\n",
            " [139.99024382]\n",
            " [166.57173703]\n",
            " [ 54.69126286]\n",
            " [120.40547909]\n",
            " [114.70047699]\n",
            " [187.51694717]\n",
            " [ 26.83182421]\n",
            " [124.1483609 ]\n",
            " [171.57161917]\n",
            " [172.24653312]\n",
            " [275.55359016]\n",
            " [ 38.19582822]\n",
            " [109.95109936]\n",
            " [213.76905744]\n",
            " [ 28.59089777]\n",
            " [126.22848282]\n",
            " [ 52.29533482]\n",
            " [375.40332329]\n",
            " [165.88186785]\n",
            " [183.93926674]\n",
            " [ 28.04614431]\n",
            " [ 25.75062568]\n",
            " [ 27.99228397]\n",
            " [107.51107708]\n",
            " [199.02400919]\n",
            " [ 48.38164033]\n",
            " [ 91.29017501]\n",
            " [ 27.36831269]\n",
            " [ 33.59553626]\n",
            " [181.52037806]\n",
            " [ 26.81958724]\n",
            " [ 30.44756932]\n",
            " [290.01977202]\n",
            " [ 76.2956289 ]\n",
            " [ 27.6618316 ]\n",
            " [309.58647757]\n",
            " [ 89.70644811]\n",
            " [180.04717553]\n",
            " [256.93242624]\n",
            " [ 87.79379145]\n",
            " [ 26.64867233]\n",
            " [ 76.79474268]\n",
            " [168.67984134]\n",
            " [ 83.61219079]\n",
            " [105.16982263]\n",
            " [ 76.15332489]\n",
            " [197.94999967]\n",
            " [161.86502929]\n",
            " [ 55.06326617]\n",
            " [148.23744897]\n",
            " [ 24.33819381]\n",
            " [ 96.61031424]\n",
            " [104.45018179]\n",
            " [151.41034645]\n",
            " [201.4290913 ]\n",
            " [ 36.89912911]\n",
            " [174.65184248]\n",
            " [187.56344596]\n",
            " [ 23.95792736]\n",
            " [ 70.66721233]\n",
            " [ 31.17785677]\n",
            " [271.54960548]\n",
            " [ 74.09550316]\n",
            " [136.364362  ]\n",
            " [153.68153775]\n",
            " [107.53644849]\n",
            " [110.22164769]\n",
            " [154.70377858]\n",
            " [126.07653122]\n",
            " [349.281651  ]\n",
            " [131.67405905]\n",
            " [ 83.51121698]\n",
            " [169.95538036]\n",
            " [ 46.94690541]\n",
            " [ 59.82253106]\n",
            " [181.70837745]\n",
            " [ 76.8973344 ]\n",
            " [ 67.61534447]\n",
            " [ 84.11529027]\n",
            " [170.94418746]\n",
            " [152.51902527]\n",
            " [196.16908526]\n",
            " [182.11038713]\n",
            " [ 24.94777763]\n",
            " [173.50156532]\n",
            " [ 75.17930714]\n",
            " [283.86680416]\n",
            " [263.54883131]\n",
            " [ 26.56290547]\n",
            " [269.39850082]\n",
            " [265.69956447]\n",
            " [116.82965887]\n",
            " [229.70148286]\n",
            " [346.85663006]\n",
            " [169.82949739]\n",
            " [180.51319385]\n",
            " [ 75.63424559]\n",
            " [188.80773862]\n",
            " [279.70787171]\n",
            " [166.2447042 ]\n",
            " [224.19059664]\n",
            " [360.92734803]\n",
            " [ 29.48997784]\n",
            " [179.28657854]\n",
            " [152.22318853]\n",
            " [ 73.62900528]\n",
            " [261.89988238]\n",
            " [199.24648347]\n",
            " [ 50.14344881]\n",
            " [ 31.75641312]\n",
            " [126.91067501]\n",
            " [ 90.18373706]\n",
            " [121.77329076]\n",
            " [125.5903608 ]\n",
            " [345.16178527]\n",
            " [105.44953818]\n",
            " [ 79.42965646]\n",
            " [193.51986037]\n",
            " [ 77.15474778]\n",
            " [163.8858116 ]\n",
            " [144.07003494]\n",
            " [ 30.99272994]\n",
            " [ 31.25609607]\n",
            " [ 26.48406958]\n",
            " [ 75.00768998]\n",
            " [ 81.96013382]\n",
            " [ 84.58390147]\n",
            " [150.41405444]\n",
            " [196.99173135]\n",
            " [154.65248852]\n",
            " [311.68288069]\n",
            " [ 74.15415002]]\n"
          ]
        }
      ]
    },
    {
      "cell_type": "code",
      "source": [
        "print(len(x_test), len(y_test))"
      ],
      "metadata": {
        "colab": {
          "base_uri": "https://localhost:8080/"
        },
        "id": "_WjN_YCiCyWm",
        "outputId": "f11b063f-0aae-46bf-d0f8-5c88548e0031"
      },
      "execution_count": null,
      "outputs": [
        {
          "output_type": "stream",
          "name": "stdout",
          "text": [
            "472 472\n"
          ]
        }
      ]
    },
    {
      "cell_type": "code",
      "source": [
        "#model evaluation accuracy\n",
        "from sklearn.metrics import r2_score\n",
        "r2_score(y_test,y_predictior)"
      ],
      "metadata": {
        "colab": {
          "base_uri": "https://localhost:8080/"
        },
        "id": "5DHy-TQQC1h5",
        "outputId": "8bef4f35-cf52-4d4b-e758-4f8b810e8d8d"
      },
      "execution_count": null,
      "outputs": [
        {
          "output_type": "execute_result",
          "data": {
            "text/plain": [
              "0.999823133766642"
            ]
          },
          "metadata": {},
          "execution_count": 32
        }
      ]
    },
    {
      "cell_type": "code",
      "source": [
        "#differences\n",
        "dataFrame= pd.DataFrame({'actual':y_test.flatten(), 'predicted':y_predictior.flatten(), 'Differences':y_test.flatten()-y_predictior.flatten()})\n",
        "print(dataFrame)"
      ],
      "metadata": {
        "colab": {
          "base_uri": "https://localhost:8080/"
        },
        "id": "83mp6P_-C4DD",
        "outputId": "d6fde5b3-9aca-4619-b4c0-73e638b92c8a"
      },
      "execution_count": null,
      "outputs": [
        {
          "output_type": "stream",
          "name": "stdout",
          "text": [
            "         actual   predicted  Differences\n",
            "0     55.570000   54.804446     0.765554\n",
            "1    209.529999  208.876440     0.653559\n",
            "2    178.070007  178.140534    -0.070527\n",
            "3     74.690002   75.940867    -1.250865\n",
            "4     26.360001   26.267407     0.092594\n",
            "..          ...         ...          ...\n",
            "467  150.240005  150.414054    -0.174049\n",
            "468  198.389999  196.991731     1.398268\n",
            "469  155.270004  154.652489     0.617516\n",
            "470  313.089996  311.682881     1.407116\n",
            "471   72.910004   74.154150    -1.244146\n",
            "\n",
            "[472 rows x 3 columns]\n"
          ]
        }
      ]
    },
    {
      "cell_type": "code",
      "source": [
        "#error calculation\n",
        "print(\"root mean squared error :\",np.sqrt(metrics.mean_squared_error(y_test,y_predictior)))\n",
        "print(\"mean squared error :\", metrics.mean_squared_error(y_test,y_predictior))\n",
        "print(\"mean absolute :\", metrics.mean_absolute_error(y_test,y_predictior))"
      ],
      "metadata": {
        "colab": {
          "base_uri": "https://localhost:8080/"
        },
        "id": "v1wl5oYfC6VN",
        "outputId": "4f999d93-2c4d-40f1-806c-12205201c8ff"
      },
      "execution_count": null,
      "outputs": [
        {
          "output_type": "stream",
          "name": "stdout",
          "text": [
            "root mean squared error : 1.1136772633061651\n",
            "mean squared error : 1.2402770468051096\n",
            "mean absolute : 0.7083395163851277\n"
          ]
        }
      ]
    },
    {
      "cell_type": "code",
      "source": [
        "#visualization for evaluation\n",
        "dataFram2= pd.DataFrame({'actual':y_test.flatten(), 'predicted':y_predictior.flatten()})\n",
        "\n",
        "visual= dataFram2.head(20)\n",
        "visual.plot(kind='bar',figsize=(12, 4))"
      ],
      "metadata": {
        "colab": {
          "base_uri": "https://localhost:8080/",
          "height": 285
        },
        "id": "FyS_lCJfC8L-",
        "outputId": "4d227c22-40af-467c-d7ed-1a50607fa347"
      },
      "execution_count": null,
      "outputs": [
        {
          "output_type": "execute_result",
          "data": {
            "text/plain": [
              "<matplotlib.axes._subplots.AxesSubplot at 0x7f75a2ec16d0>"
            ]
          },
          "metadata": {},
          "execution_count": 38
        },
        {
          "output_type": "display_data",
          "data": {
            "text/plain": [
              "<Figure size 864x288 with 1 Axes>"
            ],
            "image/png": "[encoded data removed]"
          },
          "metadata": {
            "needs_background": "light"
          }
        }
      ]
    }
  ]
}